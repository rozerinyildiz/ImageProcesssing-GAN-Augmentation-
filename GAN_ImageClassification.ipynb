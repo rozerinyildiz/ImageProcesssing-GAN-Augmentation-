{
  "cells": [
    {
      "cell_type": "markdown",
      "metadata": {
        "id": "view-in-github",
        "colab_type": "text"
      },
      "source": [
        "<a href=\"https://colab.research.google.com/github/rozerinyildiz/ImageProcesssing-GAN-Augmentation-/blob/main/GAN_ImageClassification.ipynb\" target=\"_parent\"><img src=\"https://colab.research.google.com/assets/colab-badge.svg\" alt=\"Open In Colab\"/></a>"
      ]
    },
    {
      "cell_type": "code",
      "execution_count": null,
      "metadata": {
        "colab": {
          "base_uri": "https://localhost:8080/"
        },
        "id": "pHJfdrg4yUrw",
        "outputId": "436854fd-ddb4-4b24-a4fc-d64809d072b8"
      },
      "outputs": [
        {
          "output_type": "stream",
          "name": "stdout",
          "text": [
            "Mounted at /content/drive/\n"
          ]
        }
      ],
      "source": [
        "from google.colab import drive\n",
        "drive.mount('/content/drive/')"
      ]
    },
    {
      "cell_type": "code",
      "execution_count": null,
      "metadata": {
        "id": "BhVWmJHT12pH"
      },
      "outputs": [],
      "source": [
        "import torch\n",
        "import torchvision\n",
        "from torchvision.datasets import ImageFolder\n",
        "from torchvision.models import resnet34\n",
        "from torchvision import transforms\n",
        "from torch.utils.data import DataLoader\n",
        "from torchvision import models\n",
        "import torch.nn as nn\n",
        "import torch.nn.functional as F\n",
        "import random\n",
        "\n",
        "manualSeed = 999\n",
        "\n",
        "\n",
        "random.seed(manualSeed)\n",
        "torch.manual_seed(manualSeed)\n",
        "\n",
        "\n",
        "from collections import Counter\n",
        "\n",
        "\n",
        "import os\n",
        "\n",
        "\n",
        "\n",
        "import pandas as pd\n",
        "\n",
        "import matplotlib.pyplot as plt\n",
        "import seaborn as sns; \n",
        "sns.set_style('whitegrid')\n",
        "\n",
        "\n",
        "import numpy as np\n",
        "\n",
        "\n",
        "from time import time\n",
        "\n",
        "\n",
        "import altair as alt\n",
        "\n",
        "from sklearn.decomposition import PCA\n",
        "from sklearn.manifold import TSNE"
      ]
    },
    {
      "cell_type": "code",
      "execution_count": null,
      "metadata": {
        "id": "G0ZzKeE_12rj"
      },
      "outputs": [],
      "source": [
        "transform ={\n",
        "        'train': transforms.Compose(\n",
        "                [transforms.Resize((150,150)),\n",
        "                 transforms.ToTensor(),\n",
        "                 transforms.Normalize((0.485, 0.456, 0.406), (0.229, 0.224, 0.225))\n",
        "                ]),\n",
        "         'test':transforms.Compose([transforms.Resize((150,150)),                     \n",
        "               transforms.ToTensor(),\n",
        "               transforms.Normalize((0.485, 0.456, 0.406), (0.229, 0.224, 0.225))])}\n",
        "\n",
        "\n",
        "data_train=ImageFolder('/content/drive/MyDrive/splitted_final_skin_diseases(original)/training/', transform=transform['train'])\n",
        "data_test=ImageFolder('/content/drive/MyDrive/splitted_final_skin_diseases(original)/testing/', transform=transform['test'])\n",
        "\n",
        "\n",
        "\n",
        "train_loader=DataLoader(data_train, batch_size=128,shuffle=True)\n",
        "\n",
        "test_loader=DataLoader(data_test,batch_size=32)\n",
        "\n",
        "\n",
        "\n",
        "classes=np.sort(os.listdir('/content/drive/MyDrive/splitted_final_skin_diseases(original)/training/'))"
      ]
    },
    {
      "cell_type": "code",
      "execution_count": null,
      "metadata": {
        "colab": {
          "base_uri": "https://localhost:8080/"
        },
        "id": "8nn5NEf_12to",
        "outputId": "0b9d6b2f-2592-4d76-dbc8-0470b7f8ea39"
      },
      "outputs": [
        {
          "output_type": "stream",
          "name": "stdout",
          "text": [
            "{'eczema': 0, 'keratosis_pilaris': 1, 'melanoma': 2, 'rosacea': 3}\n"
          ]
        }
      ],
      "source": [
        "print(data_train.class_to_idx)"
      ]
    },
    {
      "cell_type": "code",
      "execution_count": null,
      "metadata": {
        "colab": {
          "base_uri": "https://localhost:8080/"
        },
        "id": "6UlF2_GbZF8i",
        "outputId": "f4cd04e9-c2a9-4d76-ff90-27d24e5d48e5"
      },
      "outputs": [
        {
          "output_type": "stream",
          "name": "stdout",
          "text": [
            "training dataset size: 261\n"
          ]
        }
      ],
      "source": [
        "cl=dict(Counter(data_train.targets))\n",
        "\n",
        "print(f\"training dataset size: {len(data_train.targets)}\")"
      ]
    },
    {
      "cell_type": "code",
      "execution_count": null,
      "metadata": {
        "colab": {
          "base_uri": "https://localhost:8080/",
          "height": 282
        },
        "id": "GYr3zwkjZGCe",
        "outputId": "d0d76598-f538-4796-c3d7-da97433bd93e"
      },
      "outputs": [
        {
          "output_type": "display_data",
          "data": {
            "text/plain": [
              "<Figure size 432x288 with 1 Axes>"
            ],
            "image/png": "[encoded data removed]"
          },
          "metadata": {}
        }
      ],
      "source": [
        "plt.bar(classes, cl.values());\n",
        "\n",
        "plt.title('Distribution of our different classes');"
      ]
    },
    {
      "cell_type": "code",
      "execution_count": null,
      "metadata": {
        "colab": {
          "base_uri": "https://localhost:8080/",
          "height": 168
        },
        "id": "1zo97y31ZGFB",
        "outputId": "52e68465-b63c-4ee1-9948-640f81f31490"
      },
      "outputs": [
        {
          "output_type": "display_data",
          "data": {
            "text/plain": [
              "<Figure size 720x720 with 4 Axes>"
            ],
            "image/png": "[encoded data removed]"
          },
          "metadata": {}
        }
      ],
      "source": [
        "img,label=next(iter(train_loader))\n",
        "\n",
        "\n",
        "mean=[0.485, 0.456, 0.406]\n",
        "std=[0.229, 0.224, 0.225]\n",
        "\n",
        "\n",
        "unnormalize = transforms.Normalize(\n",
        "   mean= [-m/s for m, s in zip(mean, std)],   #To see images better with matplotlib\n",
        "   std= [1/s for s in std])                    \n",
        "\n",
        "\n",
        "\n",
        "def imshow(img):\n",
        "    img=unnormalize(img)\n",
        "    npimg = img.numpy()\n",
        "    plt.imshow(np.transpose(npimg, (1, 2, 0)))\n",
        "\n",
        "    \n",
        "plt.figure(figsize=(10,10))\n",
        "for i in range(4):\n",
        "    plt.subplot(1,4,i+1)\n",
        "    imshow(img[i])\n",
        "    plt.title(classes[label[i]])\n",
        "    plt.xticks([]), plt.yticks([])\n",
        "    "
      ]
    },
    {
      "cell_type": "code",
      "execution_count": null,
      "metadata": {
        "id": "bNqvFW04ZGIl"
      },
      "outputs": [],
      "source": [
        "class Classifieur(nn.Module):\n",
        "    def __init__(self):\n",
        "        super().__init__()\n",
        "        self.network=nn.Sequential(\n",
        "        nn.Conv2d(in_channels=3, out_channels=6, kernel_size=5),  \n",
        "        nn.ReLU(), \n",
        "        nn.MaxPool2d(2,2), \n",
        "        nn.Dropout2d(0.5),    \n",
        "        \n",
        "        \n",
        "        nn.Conv2d(in_channels=6, out_channels=16, kernel_size=5),   \n",
        "        nn.ReLU(),  \n",
        "        nn.MaxPool2d(2,2),  \n",
        "        nn.Dropout2d(0.5),  \n",
        "            \n",
        "        \n",
        "        nn.Flatten(),\n",
        "        nn.Linear(in_features=16*34*34, out_features=120),\n",
        "        nn.ReLU(),\n",
        "        nn.Dropout(0.5),    \n",
        "        \n",
        "        nn.Linear(120,84),\n",
        "        nn.ReLU(),\n",
        "        nn.Dropout(0.5) ,   \n",
        "            \n",
        "        nn.Linear(84,6),\n",
        "           \n",
        "        )\n",
        "        \n",
        "        \n",
        "    def forward(self, x):\n",
        "        return self.network(x)\n",
        "    "
      ]
    },
    {
      "cell_type": "code",
      "execution_count": null,
      "metadata": {
        "id": "S6PcOKenaDlR"
      },
      "outputs": [],
      "source": [
        "def train(model,optimizer,train_loader, test_loader, path):\n",
        "    \n",
        "    '''\n",
        "    inputs:\n",
        "    ----------------------------------------\n",
        "     model: the model to train\n",
        "     train_loader: the training set\n",
        "     test_loader: the test set\n",
        "     lr:learning rate\n",
        "    \n",
        "    \n",
        "    return:\n",
        "    -----------------------------------------\n",
        "    \n",
        "     model: best model based on accruracy value on test\n",
        "     accuracy_stats: evolution of accuracy on learning and test data\n",
        "     loss_stats: the evolution of the loss on learning and testing\n",
        "    \n",
        "    \n",
        "    '''\n",
        "\n",
        "    accuracy_stats = {\n",
        "        'train': [],\n",
        "        \"test\": []\n",
        "    }\n",
        "\n",
        "\n",
        "    loss_stats = {\n",
        "        'train': [],\n",
        "        \"test\": []\n",
        "    }\n",
        "\n",
        "\n",
        "\n",
        "\n",
        "    best_accuracy=0\n",
        "    epochs=100\n",
        "\n",
        "\n",
        "    criterion=nn.CrossEntropyLoss()\n",
        "\n",
        "    start=time()\n",
        "    for epoch in range(epochs):\n",
        "\n",
        "        train_epoch_loss=0\n",
        "        train_epoch_accuracy=0\n",
        "        total=0\n",
        "\n",
        "        total_test=0\n",
        "\n",
        "\n",
        "        for i,(inp,label) in enumerate(train_loader):\n",
        "            output=model(inp)\n",
        "            loss=criterion(output,label)\n",
        "\n",
        "            optimizer.zero_grad() # reset the gradients\n",
        "            loss.backward() #Calculate the gradient\n",
        "            optimizer.step() #update weights and biases\n",
        "\n",
        "\n",
        "            train_epoch_loss+=loss.item()  #For each epoch, I calculate the total loss\n",
        "            total+=label.size(0)\n",
        "            _, predicted = torch.max(output.data, 1) #I predict the class\n",
        "            train_epoch_accuracy+=(predicted == label).sum().item()\n",
        "\n",
        "        train_epoch_loss/=total #I take the average\n",
        "        train_epoch_accuracy/=total\n",
        "        loss_stats['train'].append(train_epoch_loss)\n",
        "        accuracy_stats['train'].append(train_epoch_accuracy)   \n",
        "\n",
        "\n",
        "        with torch.no_grad(): #No need to accumulate the gradient during this phase\n",
        "\n",
        "            model.eval()     #evaluation mode (some layers are disabled)\n",
        "\n",
        "            test_epoch_loss=0\n",
        "            test_epoch_accuracy=0\n",
        "\n",
        "\n",
        "            for i,(inp,label) in enumerate(test_loader):\n",
        "\n",
        "                output_test=model(inp)\n",
        "                test_loss=criterion(output_test,label)\n",
        "\n",
        "                test_epoch_loss+=test_loss.item()\n",
        "                total_test+=label.size(0)\n",
        "                _, predicted = torch.max(output_test.data, 1)\n",
        "                test_epoch_accuracy+=(predicted == label).sum().item()\n",
        "\n",
        "            test_epoch_loss/=total_test  \n",
        "            test_epoch_accuracy/=total_test \n",
        "            loss_stats['test'].append(test_epoch_loss)\n",
        "            accuracy_stats['test'].append(test_epoch_accuracy)\n",
        "\n",
        "\n",
        "            if test_epoch_accuracy>best_accuracy:\n",
        "                best_accuracy=test_epoch_accuracy\n",
        "                torch.save(model.state_dict(), path) #save the best model according to accuracy\n",
        "\n",
        "\n",
        "\n",
        "\n",
        "\n",
        "            #if epoch % 5 == 0:\n",
        "            print(f'epoch[{epoch+1}/{epochs}]\\t train loss:{train_epoch_loss:.3f}\\t test loss: {test_epoch_loss:.3f}')\n",
        "    end=time()\n",
        "\n",
        "\n",
        "\n",
        "    print(f'(time: {end-start}')\n",
        "    \n",
        "    \n",
        "    model.load_state_dict(torch.load(path))\n",
        "    \n",
        "    \n",
        "    return model, accuracy_stats, loss_stats\n",
        "    "
      ]
    },
    {
      "cell_type": "code",
      "execution_count": null,
      "metadata": {
        "colab": {
          "base_uri": "https://localhost:8080/"
        },
        "id": "AAByqdcraDvT",
        "outputId": "89cb0729-ec7e-49ac-d0ce-9903afb6fa0d"
      },
      "outputs": [
        {
          "output_type": "stream",
          "name": "stdout",
          "text": [
            "epoch[1/100]\t train loss:0.020\t test loss: 0.057\n",
            "epoch[2/100]\t train loss:0.017\t test loss: 0.049\n",
            "epoch[3/100]\t train loss:0.015\t test loss: 0.044\n",
            "epoch[4/100]\t train loss:0.014\t test loss: 0.055\n",
            "epoch[5/100]\t train loss:0.013\t test loss: 0.045\n",
            "epoch[6/100]\t train loss:0.012\t test loss: 0.039\n",
            "epoch[7/100]\t train loss:0.010\t test loss: 0.042\n",
            "epoch[8/100]\t train loss:0.010\t test loss: 0.040\n",
            "epoch[9/100]\t train loss:0.011\t test loss: 0.040\n",
            "epoch[10/100]\t train loss:0.009\t test loss: 0.037\n",
            "epoch[11/100]\t train loss:0.008\t test loss: 0.046\n",
            "epoch[12/100]\t train loss:0.008\t test loss: 0.048\n",
            "epoch[13/100]\t train loss:0.008\t test loss: 0.035\n",
            "epoch[14/100]\t train loss:0.007\t test loss: 0.032\n",
            "epoch[15/100]\t train loss:0.007\t test loss: 0.047\n",
            "epoch[16/100]\t train loss:0.007\t test loss: 0.041\n",
            "epoch[17/100]\t train loss:0.008\t test loss: 0.030\n",
            "epoch[18/100]\t train loss:0.006\t test loss: 0.044\n",
            "epoch[19/100]\t train loss:0.007\t test loss: 0.042\n",
            "epoch[20/100]\t train loss:0.008\t test loss: 0.033\n",
            "epoch[21/100]\t train loss:0.005\t test loss: 0.028\n",
            "epoch[22/100]\t train loss:0.008\t test loss: 0.032\n",
            "epoch[23/100]\t train loss:0.008\t test loss: 0.033\n",
            "epoch[24/100]\t train loss:0.006\t test loss: 0.026\n",
            "epoch[25/100]\t train loss:0.006\t test loss: 0.034\n",
            "epoch[26/100]\t train loss:0.005\t test loss: 0.028\n",
            "epoch[27/100]\t train loss:0.004\t test loss: 0.026\n",
            "epoch[28/100]\t train loss:0.005\t test loss: 0.034\n",
            "epoch[29/100]\t train loss:0.004\t test loss: 0.043\n",
            "epoch[30/100]\t train loss:0.004\t test loss: 0.032\n",
            "epoch[31/100]\t train loss:0.007\t test loss: 0.030\n",
            "epoch[32/100]\t train loss:0.005\t test loss: 0.039\n",
            "epoch[33/100]\t train loss:0.004\t test loss: 0.027\n",
            "epoch[34/100]\t train loss:0.004\t test loss: 0.023\n",
            "epoch[35/100]\t train loss:0.004\t test loss: 0.038\n",
            "epoch[36/100]\t train loss:0.005\t test loss: 0.041\n",
            "epoch[37/100]\t train loss:0.003\t test loss: 0.025\n",
            "epoch[38/100]\t train loss:0.003\t test loss: 0.026\n",
            "epoch[39/100]\t train loss:0.004\t test loss: 0.034\n",
            "epoch[40/100]\t train loss:0.004\t test loss: 0.044\n",
            "epoch[41/100]\t train loss:0.003\t test loss: 0.027\n",
            "epoch[42/100]\t train loss:0.002\t test loss: 0.025\n",
            "epoch[43/100]\t train loss:0.004\t test loss: 0.026\n",
            "epoch[44/100]\t train loss:0.002\t test loss: 0.040\n",
            "epoch[45/100]\t train loss:0.004\t test loss: 0.035\n",
            "epoch[46/100]\t train loss:0.002\t test loss: 0.032\n",
            "epoch[47/100]\t train loss:0.002\t test loss: 0.026\n",
            "epoch[48/100]\t train loss:0.001\t test loss: 0.025\n",
            "epoch[49/100]\t train loss:0.001\t test loss: 0.026\n",
            "epoch[50/100]\t train loss:0.001\t test loss: 0.026\n",
            "epoch[51/100]\t train loss:0.001\t test loss: 0.025\n",
            "epoch[52/100]\t train loss:0.002\t test loss: 0.023\n",
            "epoch[53/100]\t train loss:0.002\t test loss: 0.025\n",
            "epoch[54/100]\t train loss:0.001\t test loss: 0.035\n",
            "epoch[55/100]\t train loss:0.002\t test loss: 0.044\n",
            "epoch[56/100]\t train loss:0.002\t test loss: 0.024\n",
            "epoch[57/100]\t train loss:0.003\t test loss: 0.031\n",
            "epoch[58/100]\t train loss:0.004\t test loss: 0.040\n",
            "epoch[59/100]\t train loss:0.001\t test loss: 0.029\n",
            "epoch[60/100]\t train loss:0.004\t test loss: 0.029\n",
            "epoch[61/100]\t train loss:0.001\t test loss: 0.059\n",
            "epoch[62/100]\t train loss:0.003\t test loss: 0.031\n",
            "epoch[63/100]\t train loss:0.001\t test loss: 0.020\n",
            "epoch[64/100]\t train loss:0.001\t test loss: 0.020\n",
            "epoch[65/100]\t train loss:0.001\t test loss: 0.025\n",
            "epoch[66/100]\t train loss:0.001\t test loss: 0.028\n",
            "epoch[67/100]\t train loss:0.001\t test loss: 0.025\n",
            "epoch[68/100]\t train loss:0.001\t test loss: 0.022\n",
            "epoch[69/100]\t train loss:0.001\t test loss: 0.022\n",
            "epoch[70/100]\t train loss:0.001\t test loss: 0.023\n",
            "epoch[71/100]\t train loss:0.000\t test loss: 0.031\n",
            "epoch[72/100]\t train loss:0.001\t test loss: 0.030\n",
            "epoch[73/100]\t train loss:0.000\t test loss: 0.024\n",
            "epoch[74/100]\t train loss:0.000\t test loss: 0.023\n",
            "epoch[75/100]\t train loss:0.000\t test loss: 0.031\n",
            "epoch[76/100]\t train loss:0.000\t test loss: 0.037\n",
            "epoch[77/100]\t train loss:0.000\t test loss: 0.039\n",
            "epoch[78/100]\t train loss:0.000\t test loss: 0.040\n",
            "epoch[79/100]\t train loss:0.000\t test loss: 0.039\n",
            "epoch[80/100]\t train loss:0.000\t test loss: 0.038\n",
            "epoch[81/100]\t train loss:0.000\t test loss: 0.038\n",
            "epoch[82/100]\t train loss:0.000\t test loss: 0.037\n",
            "epoch[83/100]\t train loss:0.000\t test loss: 0.037\n",
            "epoch[84/100]\t train loss:0.000\t test loss: 0.036\n",
            "epoch[85/100]\t train loss:0.000\t test loss: 0.035\n",
            "epoch[86/100]\t train loss:0.000\t test loss: 0.034\n",
            "epoch[87/100]\t train loss:0.000\t test loss: 0.033\n",
            "epoch[88/100]\t train loss:0.000\t test loss: 0.033\n",
            "epoch[89/100]\t train loss:0.000\t test loss: 0.035\n",
            "epoch[90/100]\t train loss:0.000\t test loss: 0.037\n",
            "epoch[91/100]\t train loss:0.000\t test loss: 0.037\n",
            "epoch[92/100]\t train loss:0.000\t test loss: 0.034\n",
            "epoch[93/100]\t train loss:0.000\t test loss: 0.032\n",
            "epoch[94/100]\t train loss:0.001\t test loss: 0.033\n",
            "epoch[95/100]\t train loss:0.002\t test loss: 0.051\n",
            "epoch[96/100]\t train loss:0.002\t test loss: 0.054\n",
            "epoch[97/100]\t train loss:0.002\t test loss: 0.036\n",
            "epoch[98/100]\t train loss:0.004\t test loss: 0.032\n",
            "epoch[99/100]\t train loss:0.001\t test loss: 0.036\n",
            "epoch[100/100]\t train loss:0.001\t test loss: 0.024\n",
            "(time: 3094.6273012161255\n"
          ]
        }
      ],
      "source": [
        "lr=0.001\n",
        "model=Classifieur()\n",
        "optimizer=torch.optim.Adam(model.parameters(),lr=lr, weight_decay=0.005)\n",
        "\n",
        "\n",
        "best_model_Classifieur, accuracy_stats_Classifieur, loss_stats_Classifieur=\\\n",
        "            train(model=model,optimizer=optimizer,train_loader=train_loader, test_loader=test_loader,path='./classifieur.pth')"
      ]
    },
    {
      "cell_type": "code",
      "execution_count": null,
      "metadata": {
        "colab": {
          "base_uri": "https://localhost:8080/"
        },
        "id": "g4_f_SbLaDyb",
        "outputId": "8159959a-f1b4-4065-cfaa-65c784dc1ef8"
      },
      "outputs": [
        {
          "output_type": "stream",
          "name": "stdout",
          "text": [
            "accuracy train: 0.97\n",
            "accuracy test: 0.88\n"
          ]
        }
      ],
      "source": [
        "#The saved model corresponds to the model with the highest accuracy value\n",
        "i=np.argmax(accuracy_stats_Classifieur['test'])\n",
        "\n",
        "\n",
        "print(f\"accuracy train: {accuracy_stats_Classifieur['train'][i]:.2f}\")\n",
        "print(f\"accuracy test: {accuracy_stats_Classifieur['test'][i]:.2f}\")"
      ]
    },
    {
      "cell_type": "code",
      "execution_count": null,
      "metadata": {
        "colab": {
          "base_uri": "https://localhost:8080/",
          "height": 389
        },
        "id": "Moo_rOBSZGLJ",
        "outputId": "4aa7f1f8-835e-436e-cbff-ff789362a784"
      },
      "outputs": [
        {
          "output_type": "execute_result",
          "data": {
            "text/html": [
              "\n",
              "<div id=\"altair-viz-3497a785c6d24896963902c96864f072\"></div>\n",
              "<script type=\"text/javascript\">\n",
              "  var VEGA_DEBUG = (typeof VEGA_DEBUG == \"undefined\") ? {} : VEGA_DEBUG;\n",
              "  (function(spec, embedOpt){\n",
              "    let outputDiv = document.currentScript.previousElementSibling;\n",
              "    if (outputDiv.id !== \"altair-viz-3497a785c6d24896963902c96864f072\") {\n",
              "      outputDiv = document.getElementById(\"altair-viz-3497a785c6d24896963902c96864f072\");\n",
              "    }\n",
              "    const paths = {\n",
              "      \"vega\": \"https://cdn.jsdelivr.net/npm//vega@5?noext\",\n",
              "      \"vega-lib\": \"https://cdn.jsdelivr.net/npm//vega-lib?noext\",\n",
              "      \"vega-lite\": \"https://cdn.jsdelivr.net/npm//vega-lite@4.17.0?noext\",\n",
              "      \"vega-embed\": \"https://cdn.jsdelivr.net/npm//vega-embed@6?noext\",\n",
              "    };\n",
              "\n",
              "    function maybeLoadScript(lib, version) {\n",
              "      var key = `${lib.replace(\"-\", \"\")}_version`;\n",
              "      return (VEGA_DEBUG[key] == version) ?\n",
              "        Promise.resolve(paths[lib]) :\n",
              "        new Promise(function(resolve, reject) {\n",
              "          var s = document.createElement('script');\n",
              "          document.getElementsByTagName(\"head\")[0].appendChild(s);\n",
              "          s.async = true;\n",
              "          s.onload = () => {\n",
              "            VEGA_DEBUG[key] = version;\n",
              "            return resolve(paths[lib]);\n",
              "          };\n",
              "          s.onerror = () => reject(`Error loading script: ${paths[lib]}`);\n",
              "          s.src = paths[lib];\n",
              "        });\n",
              "    }\n",
              "\n",
              "    function showError(err) {\n",
              "      outputDiv.innerHTML = `<div class=\"error\" style=\"color:red;\">${err}</div>`;\n",
              "      throw err;\n",
              "    }\n",
              "\n",
              "    function displayChart(vegaEmbed) {\n",
              "      vegaEmbed(outputDiv, spec, embedOpt)\n",
              "        .catch(err => showError(`Javascript Error: ${err.message}<br>This usually means there's a typo in your chart specification. See the javascript console for the full traceback.`));\n",
              "    }\n",
              "\n",
              "    if(typeof define === \"function\" && define.amd) {\n",
              "      requirejs.config({paths});\n",
              "      require([\"vega-embed\"], displayChart, err => showError(`Error loading script: ${err.message}`));\n",
              "    } else {\n",
              "      maybeLoadScript(\"vega\", \"5\")\n",
              "        .then(() => maybeLoadScript(\"vega-lite\", \"4.17.0\"))\n",
              "        .then(() => maybeLoadScript(\"vega-embed\", \"6\"))\n",
              "        .catch(showError)\n",
              "        .then(() => displayChart(vegaEmbed));\n",
              "    }\n",
              "  })({\"config\": {\"view\": {\"continuousWidth\": 400, \"continuousHeight\": 300}}, \"hconcat\": [{\"data\": {\"name\": \"data-f33ec6e25b2c05e18cc380f16795e590\"}, \"mark\": \"line\", \"encoding\": {\"color\": {\"field\": \"variable\", \"type\": \"nominal\"}, \"x\": {\"field\": \"epochs\", \"scale\": {\"zero\": false}, \"type\": \"ordinal\"}, \"y\": {\"field\": \"value\", \"scale\": {\"zero\": false}, \"type\": \"quantitative\"}}, \"height\": 300, \"title\": \"Accuracy\", \"width\": 300}, {\"data\": {\"name\": \"data-eef0b927977d925d475f17933137e9d9\"}, \"mark\": \"line\", \"encoding\": {\"color\": {\"field\": \"variable\", \"type\": \"nominal\"}, \"x\": {\"field\": \"epochs\", \"type\": \"ordinal\"}, \"y\": {\"field\": \"value\", \"type\": \"quantitative\"}}, \"height\": 300, \"title\": \"Loss\", \"width\": 300}], \"resolve\": {\"scale\": {\"y\": \"independent\"}}, \"$schema\": \"https://vega.github.io/schema/vega-lite/v4.17.0.json\", \"datasets\": {\"data-f33ec6e25b2c05e18cc380f16795e590\": [{\"epochs\": 0, \"variable\": \"train\", \"value\": 0.13793103448275862}, {\"epochs\": 1, \"variable\": \"train\", \"value\": 0.2988505747126437}, {\"epochs\": 2, \"variable\": \"train\", \"value\": 0.4827586206896552}, {\"epochs\": 3, \"variable\": \"train\", \"value\": 0.3831417624521073}, {\"epochs\": 4, \"variable\": \"train\", \"value\": 0.4521072796934866}, {\"epochs\": 5, \"variable\": \"train\", \"value\": 0.6130268199233716}, {\"epochs\": 6, \"variable\": \"train\", \"value\": 0.5708812260536399}, {\"epochs\": 7, \"variable\": \"train\", \"value\": 0.6283524904214559}, {\"epochs\": 8, \"variable\": \"train\", \"value\": 0.632183908045977}, {\"epochs\": 9, \"variable\": \"train\", \"value\": 0.685823754789272}, {\"epochs\": 10, \"variable\": \"train\", \"value\": 0.6973180076628352}, {\"epochs\": 11, \"variable\": \"train\", \"value\": 0.6934865900383141}, {\"epochs\": 12, \"variable\": \"train\", \"value\": 0.6781609195402298}, {\"epochs\": 13, \"variable\": \"train\", \"value\": 0.7777777777777778}, {\"epochs\": 14, \"variable\": \"train\", \"value\": 0.7777777777777778}, {\"epochs\": 15, \"variable\": \"train\", \"value\": 0.7164750957854407}, {\"epochs\": 16, \"variable\": \"train\", \"value\": 0.7509578544061303}, {\"epochs\": 17, \"variable\": \"train\", \"value\": 0.7547892720306514}, {\"epochs\": 18, \"variable\": \"train\", \"value\": 0.6819923371647509}, {\"epochs\": 19, \"variable\": \"train\", \"value\": 0.7662835249042146}, {\"epochs\": 20, \"variable\": \"train\", \"value\": 0.7586206896551724}, {\"epochs\": 21, \"variable\": \"train\", \"value\": 0.7662835249042146}, {\"epochs\": 22, \"variable\": \"train\", \"value\": 0.842911877394636}, {\"epochs\": 23, \"variable\": \"train\", \"value\": 0.8275862068965517}, {\"epochs\": 24, \"variable\": \"train\", \"value\": 0.8275862068965517}, {\"epochs\": 25, \"variable\": \"train\", \"value\": 0.7969348659003831}, {\"epochs\": 26, \"variable\": \"train\", \"value\": 0.8544061302681992}, {\"epochs\": 27, \"variable\": \"train\", \"value\": 0.8160919540229885}, {\"epochs\": 28, \"variable\": \"train\", \"value\": 0.8390804597701149}, {\"epochs\": 29, \"variable\": \"train\", \"value\": 0.8544061302681992}, {\"epochs\": 30, \"variable\": \"train\", \"value\": 0.8582375478927203}, {\"epochs\": 31, \"variable\": \"train\", \"value\": 0.8620689655172413}, {\"epochs\": 32, \"variable\": \"train\", \"value\": 0.8467432950191571}, {\"epochs\": 33, \"variable\": \"train\", \"value\": 0.8505747126436781}, {\"epochs\": 34, \"variable\": \"train\", \"value\": 0.8467432950191571}, {\"epochs\": 35, \"variable\": \"train\", \"value\": 0.8697318007662835}, {\"epochs\": 36, \"variable\": \"train\", \"value\": 0.8773946360153256}, {\"epochs\": 37, \"variable\": \"train\", \"value\": 0.9118773946360154}, {\"epochs\": 38, \"variable\": \"train\", \"value\": 0.8659003831417624}, {\"epochs\": 39, \"variable\": \"train\", \"value\": 0.8773946360153256}, {\"epochs\": 40, \"variable\": \"train\", \"value\": 0.8850574712643678}, {\"epochs\": 41, \"variable\": \"train\", \"value\": 0.9272030651340997}, {\"epochs\": 42, \"variable\": \"train\", \"value\": 0.8850574712643678}, {\"epochs\": 43, \"variable\": \"train\", \"value\": 0.9233716475095786}, {\"epochs\": 44, \"variable\": \"train\", \"value\": 0.8659003831417624}, {\"epochs\": 45, \"variable\": \"train\", \"value\": 0.9425287356321839}, {\"epochs\": 46, \"variable\": \"train\", \"value\": 0.89272030651341}, {\"epochs\": 47, \"variable\": \"train\", \"value\": 0.9386973180076629}, {\"epochs\": 48, \"variable\": \"train\", \"value\": 0.9578544061302682}, {\"epochs\": 49, \"variable\": \"train\", \"value\": 0.9731800766283525}, {\"epochs\": 50, \"variable\": \"train\", \"value\": 0.9846743295019157}, {\"epochs\": 51, \"variable\": \"train\", \"value\": 0.9693486590038314}, {\"epochs\": 52, \"variable\": \"train\", \"value\": 0.9348659003831418}, {\"epochs\": 53, \"variable\": \"train\", \"value\": 0.9731800766283525}, {\"epochs\": 54, \"variable\": \"train\", \"value\": 0.9540229885057471}, {\"epochs\": 55, \"variable\": \"train\", \"value\": 0.946360153256705}, {\"epochs\": 56, \"variable\": \"train\", \"value\": 0.9501915708812261}, {\"epochs\": 57, \"variable\": \"train\", \"value\": 0.8314176245210728}, {\"epochs\": 58, \"variable\": \"train\", \"value\": 0.9616858237547893}, {\"epochs\": 59, \"variable\": \"train\", \"value\": 0.8773946360153256}, {\"epochs\": 60, \"variable\": \"train\", \"value\": 0.9770114942528736}, {\"epochs\": 61, \"variable\": \"train\", \"value\": 0.8582375478927203}, {\"epochs\": 62, \"variable\": \"train\", \"value\": 0.9808429118773946}, {\"epochs\": 63, \"variable\": \"train\", \"value\": 0.9693486590038314}, {\"epochs\": 64, \"variable\": \"train\", \"value\": 0.9846743295019157}, {\"epochs\": 65, \"variable\": \"train\", \"value\": 0.9961685823754789}, {\"epochs\": 66, \"variable\": \"train\", \"value\": 0.9923371647509579}, {\"epochs\": 67, \"variable\": \"train\", \"value\": 0.9961685823754789}, {\"epochs\": 68, \"variable\": \"train\", \"value\": 1.0}, {\"epochs\": 69, \"variable\": \"train\", \"value\": 0.9923371647509579}, {\"epochs\": 70, \"variable\": \"train\", \"value\": 1.0}, {\"epochs\": 71, \"variable\": \"train\", \"value\": 0.9923371647509579}, {\"epochs\": 72, \"variable\": \"train\", \"value\": 1.0}, {\"epochs\": 73, \"variable\": \"train\", \"value\": 0.9923371647509579}, {\"epochs\": 74, \"variable\": \"train\", \"value\": 0.9923371647509579}, {\"epochs\": 75, \"variable\": \"train\", \"value\": 1.0}, {\"epochs\": 76, \"variable\": \"train\", \"value\": 1.0}, {\"epochs\": 77, \"variable\": \"train\", \"value\": 1.0}, {\"epochs\": 78, \"variable\": \"train\", \"value\": 1.0}, {\"epochs\": 79, \"variable\": \"train\", \"value\": 1.0}, {\"epochs\": 80, \"variable\": \"train\", \"value\": 1.0}, {\"epochs\": 81, \"variable\": \"train\", \"value\": 1.0}, {\"epochs\": 82, \"variable\": \"train\", \"value\": 1.0}, {\"epochs\": 83, \"variable\": \"train\", \"value\": 1.0}, {\"epochs\": 84, \"variable\": \"train\", \"value\": 1.0}, {\"epochs\": 85, \"variable\": \"train\", \"value\": 1.0}, {\"epochs\": 86, \"variable\": \"train\", \"value\": 1.0}, {\"epochs\": 87, \"variable\": \"train\", \"value\": 1.0}, {\"epochs\": 88, \"variable\": \"train\", \"value\": 1.0}, {\"epochs\": 89, \"variable\": \"train\", \"value\": 1.0}, {\"epochs\": 90, \"variable\": \"train\", \"value\": 1.0}, {\"epochs\": 91, \"variable\": \"train\", \"value\": 1.0}, {\"epochs\": 92, \"variable\": \"train\", \"value\": 1.0}, {\"epochs\": 93, \"variable\": \"train\", \"value\": 0.9923371647509579}, {\"epochs\": 94, \"variable\": \"train\", \"value\": 0.9195402298850575}, {\"epochs\": 95, \"variable\": \"train\", \"value\": 0.9272030651340997}, {\"epochs\": 96, \"variable\": \"train\", \"value\": 0.9310344827586207}, {\"epochs\": 97, \"variable\": \"train\", \"value\": 0.8735632183908046}, {\"epochs\": 98, \"variable\": \"train\", \"value\": 0.9770114942528736}, {\"epochs\": 99, \"variable\": \"train\", \"value\": 0.9731800766283525}, {\"epochs\": 0, \"variable\": \"test\", \"value\": 0.25663716814159293}, {\"epochs\": 1, \"variable\": \"test\", \"value\": 0.30973451327433627}, {\"epochs\": 2, \"variable\": \"test\", \"value\": 0.3185840707964602}, {\"epochs\": 3, \"variable\": \"test\", \"value\": 0.40707964601769914}, {\"epochs\": 4, \"variable\": \"test\", \"value\": 0.504424778761062}, {\"epochs\": 5, \"variable\": \"test\", \"value\": 0.5132743362831859}, {\"epochs\": 6, \"variable\": \"test\", \"value\": 0.5398230088495575}, {\"epochs\": 7, \"variable\": \"test\", \"value\": 0.5486725663716814}, {\"epochs\": 8, \"variable\": \"test\", \"value\": 0.5575221238938053}, {\"epochs\": 9, \"variable\": \"test\", \"value\": 0.5752212389380531}, {\"epochs\": 10, \"variable\": \"test\", \"value\": 0.584070796460177}, {\"epochs\": 11, \"variable\": \"test\", \"value\": 0.584070796460177}, {\"epochs\": 12, \"variable\": \"test\", \"value\": 0.6460176991150443}, {\"epochs\": 13, \"variable\": \"test\", \"value\": 0.6371681415929203}, {\"epochs\": 14, \"variable\": \"test\", \"value\": 0.584070796460177}, {\"epochs\": 15, \"variable\": \"test\", \"value\": 0.6283185840707964}, {\"epochs\": 16, \"variable\": \"test\", \"value\": 0.6548672566371682}, {\"epochs\": 17, \"variable\": \"test\", \"value\": 0.5575221238938053}, {\"epochs\": 18, \"variable\": \"test\", \"value\": 0.6637168141592921}, {\"epochs\": 19, \"variable\": \"test\", \"value\": 0.6902654867256637}, {\"epochs\": 20, \"variable\": \"test\", \"value\": 0.7345132743362832}, {\"epochs\": 21, \"variable\": \"test\", \"value\": 0.7168141592920354}, {\"epochs\": 22, \"variable\": \"test\", \"value\": 0.6902654867256637}, {\"epochs\": 23, \"variable\": \"test\", \"value\": 0.7079646017699115}, {\"epochs\": 24, \"variable\": \"test\", \"value\": 0.672566371681416}, {\"epochs\": 25, \"variable\": \"test\", \"value\": 0.7079646017699115}, {\"epochs\": 26, \"variable\": \"test\", \"value\": 0.7522123893805309}, {\"epochs\": 27, \"variable\": \"test\", \"value\": 0.6991150442477876}, {\"epochs\": 28, \"variable\": \"test\", \"value\": 0.7168141592920354}, {\"epochs\": 29, \"variable\": \"test\", \"value\": 0.7345132743362832}, {\"epochs\": 30, \"variable\": \"test\", \"value\": 0.7610619469026548}, {\"epochs\": 31, \"variable\": \"test\", \"value\": 0.6902654867256637}, {\"epochs\": 32, \"variable\": \"test\", \"value\": 0.7610619469026548}, {\"epochs\": 33, \"variable\": \"test\", \"value\": 0.7256637168141593}, {\"epochs\": 34, \"variable\": \"test\", \"value\": 0.6991150442477876}, {\"epochs\": 35, \"variable\": \"test\", \"value\": 0.7079646017699115}, {\"epochs\": 36, \"variable\": \"test\", \"value\": 0.7876106194690266}, {\"epochs\": 37, \"variable\": \"test\", \"value\": 0.7787610619469026}, {\"epochs\": 38, \"variable\": \"test\", \"value\": 0.7876106194690266}, {\"epochs\": 39, \"variable\": \"test\", \"value\": 0.7522123893805309}, {\"epochs\": 40, \"variable\": \"test\", \"value\": 0.8053097345132744}, {\"epochs\": 41, \"variable\": \"test\", \"value\": 0.7699115044247787}, {\"epochs\": 42, \"variable\": \"test\", \"value\": 0.7876106194690266}, {\"epochs\": 43, \"variable\": \"test\", \"value\": 0.7256637168141593}, {\"epochs\": 44, \"variable\": \"test\", \"value\": 0.7787610619469026}, {\"epochs\": 45, \"variable\": \"test\", \"value\": 0.7787610619469026}, {\"epochs\": 46, \"variable\": \"test\", \"value\": 0.8053097345132744}, {\"epochs\": 47, \"variable\": \"test\", \"value\": 0.8141592920353983}, {\"epochs\": 48, \"variable\": \"test\", \"value\": 0.8141592920353983}, {\"epochs\": 49, \"variable\": \"test\", \"value\": 0.8230088495575221}, {\"epochs\": 50, \"variable\": \"test\", \"value\": 0.831858407079646}, {\"epochs\": 51, \"variable\": \"test\", \"value\": 0.8053097345132744}, {\"epochs\": 52, \"variable\": \"test\", \"value\": 0.8495575221238938}, {\"epochs\": 53, \"variable\": \"test\", \"value\": 0.831858407079646}, {\"epochs\": 54, \"variable\": \"test\", \"value\": 0.8053097345132744}, {\"epochs\": 55, \"variable\": \"test\", \"value\": 0.831858407079646}, {\"epochs\": 56, \"variable\": \"test\", \"value\": 0.7522123893805309}, {\"epochs\": 57, \"variable\": \"test\", \"value\": 0.7345132743362832}, {\"epochs\": 58, \"variable\": \"test\", \"value\": 0.7964601769911505}, {\"epochs\": 59, \"variable\": \"test\", \"value\": 0.831858407079646}, {\"epochs\": 60, \"variable\": \"test\", \"value\": 0.6991150442477876}, {\"epochs\": 61, \"variable\": \"test\", \"value\": 0.831858407079646}, {\"epochs\": 62, \"variable\": \"test\", \"value\": 0.8495575221238938}, {\"epochs\": 63, \"variable\": \"test\", \"value\": 0.8849557522123894}, {\"epochs\": 64, \"variable\": \"test\", \"value\": 0.8495575221238938}, {\"epochs\": 65, \"variable\": \"test\", \"value\": 0.8495575221238938}, {\"epochs\": 66, \"variable\": \"test\", \"value\": 0.8672566371681416}, {\"epochs\": 67, \"variable\": \"test\", \"value\": 0.8672566371681416}, {\"epochs\": 68, \"variable\": \"test\", \"value\": 0.8672566371681416}, {\"epochs\": 69, \"variable\": \"test\", \"value\": 0.8761061946902655}, {\"epochs\": 70, \"variable\": \"test\", \"value\": 0.8584070796460177}, {\"epochs\": 71, \"variable\": \"test\", \"value\": 0.8672566371681416}, {\"epochs\": 72, \"variable\": \"test\", \"value\": 0.8672566371681416}, {\"epochs\": 73, \"variable\": \"test\", \"value\": 0.8672566371681416}, {\"epochs\": 74, \"variable\": \"test\", \"value\": 0.8672566371681416}, {\"epochs\": 75, \"variable\": \"test\", \"value\": 0.8584070796460177}, {\"epochs\": 76, \"variable\": \"test\", \"value\": 0.8495575221238938}, {\"epochs\": 77, \"variable\": \"test\", \"value\": 0.8407079646017699}, {\"epochs\": 78, \"variable\": \"test\", \"value\": 0.8407079646017699}, {\"epochs\": 79, \"variable\": \"test\", \"value\": 0.8495575221238938}, {\"epochs\": 80, \"variable\": \"test\", \"value\": 0.8495575221238938}, {\"epochs\": 81, \"variable\": \"test\", \"value\": 0.8230088495575221}, {\"epochs\": 82, \"variable\": \"test\", \"value\": 0.831858407079646}, {\"epochs\": 83, \"variable\": \"test\", \"value\": 0.831858407079646}, {\"epochs\": 84, \"variable\": \"test\", \"value\": 0.8407079646017699}, {\"epochs\": 85, \"variable\": \"test\", \"value\": 0.8495575221238938}, {\"epochs\": 86, \"variable\": \"test\", \"value\": 0.8584070796460177}, {\"epochs\": 87, \"variable\": \"test\", \"value\": 0.8672566371681416}, {\"epochs\": 88, \"variable\": \"test\", \"value\": 0.8495575221238938}, {\"epochs\": 89, \"variable\": \"test\", \"value\": 0.8495575221238938}, {\"epochs\": 90, \"variable\": \"test\", \"value\": 0.8407079646017699}, {\"epochs\": 91, \"variable\": \"test\", \"value\": 0.8495575221238938}, {\"epochs\": 92, \"variable\": \"test\", \"value\": 0.8584070796460177}, {\"epochs\": 93, \"variable\": \"test\", \"value\": 0.8495575221238938}, {\"epochs\": 94, \"variable\": \"test\", \"value\": 0.8053097345132744}, {\"epochs\": 95, \"variable\": \"test\", \"value\": 0.7522123893805309}, {\"epochs\": 96, \"variable\": \"test\", \"value\": 0.7433628318584071}, {\"epochs\": 97, \"variable\": \"test\", \"value\": 0.831858407079646}, {\"epochs\": 98, \"variable\": \"test\", \"value\": 0.831858407079646}, {\"epochs\": 99, \"variable\": \"test\", \"value\": 0.8230088495575221}], \"data-eef0b927977d925d475f17933137e9d9\": [{\"epochs\": 0, \"variable\": \"train\", \"value\": 0.020275516071538817}, {\"epochs\": 1, \"variable\": \"train\", \"value\": 0.01693071350740747}, {\"epochs\": 2, \"variable\": \"train\", \"value\": 0.014539360086579889}, {\"epochs\": 3, \"variable\": \"train\", \"value\": 0.014339709190573272}, {\"epochs\": 4, \"variable\": \"train\", \"value\": 0.01262553030503664}, {\"epochs\": 5, \"variable\": \"train\", \"value\": 0.012187408989873427}, {\"epochs\": 6, \"variable\": \"train\", \"value\": 0.010167983985038553}, {\"epochs\": 7, \"variable\": \"train\", \"value\": 0.010489921231836195}, {\"epochs\": 8, \"variable\": \"train\", \"value\": 0.011483740760905532}, {\"epochs\": 9, \"variable\": \"train\", \"value\": 0.009325229116783289}, {\"epochs\": 10, \"variable\": \"train\", \"value\": 0.008368850211074069}, {\"epochs\": 11, \"variable\": \"train\", \"value\": 0.008288089571327999}, {\"epochs\": 12, \"variable\": \"train\", \"value\": 0.008201497724686545}, {\"epochs\": 13, \"variable\": \"train\", \"value\": 0.007181227207183838}, {\"epochs\": 14, \"variable\": \"train\", \"value\": 0.007145466018910609}, {\"epochs\": 15, \"variable\": \"train\", \"value\": 0.006675164589936706}, {\"epochs\": 16, \"variable\": \"train\", \"value\": 0.007769521625562646}, {\"epochs\": 17, \"variable\": \"train\", \"value\": 0.00572675375189361}, {\"epochs\": 18, \"variable\": \"train\", \"value\": 0.0072413349517003785}, {\"epochs\": 19, \"variable\": \"train\", \"value\": 0.0075051754827243616}, {\"epochs\": 20, \"variable\": \"train\", \"value\": 0.004693708486027188}, {\"epochs\": 21, \"variable\": \"train\", \"value\": 0.008202323625827658}, {\"epochs\": 22, \"variable\": \"train\", \"value\": 0.0078201311073084}, {\"epochs\": 23, \"variable\": \"train\", \"value\": 0.005971976737866457}, {\"epochs\": 24, \"variable\": \"train\", \"value\": 0.0058124848709252604}, {\"epochs\": 25, \"variable\": \"train\", \"value\": 0.005347093745666445}, {\"epochs\": 26, \"variable\": \"train\", \"value\": 0.004301519686234865}, {\"epochs\": 27, \"variable\": \"train\", \"value\": 0.004779671343807059}, {\"epochs\": 28, \"variable\": \"train\", \"value\": 0.003932262117835297}, {\"epochs\": 29, \"variable\": \"train\", \"value\": 0.0038390469048671795}, {\"epochs\": 30, \"variable\": \"train\", \"value\": 0.007478470889087838}, {\"epochs\": 31, \"variable\": \"train\", \"value\": 0.005054179279283546}, {\"epochs\": 32, \"variable\": \"train\", \"value\": 0.004220884421776081}, {\"epochs\": 33, \"variable\": \"train\", \"value\": 0.003925948878357693}, {\"epochs\": 34, \"variable\": \"train\", \"value\": 0.003843543972548854}, {\"epochs\": 35, \"variable\": \"train\", \"value\": 0.004651787180553451}, {\"epochs\": 36, \"variable\": \"train\", \"value\": 0.0034883373998590814}, {\"epochs\": 37, \"variable\": \"train\", \"value\": 0.003126394189180542}, {\"epochs\": 38, \"variable\": \"train\", \"value\": 0.0043819401684392}, {\"epochs\": 39, \"variable\": \"train\", \"value\": 0.003599485903407422}, {\"epochs\": 40, \"variable\": \"train\", \"value\": 0.002752125919778685}, {\"epochs\": 41, \"variable\": \"train\", \"value\": 0.0019084663911797535}, {\"epochs\": 42, \"variable\": \"train\", \"value\": 0.003582628179784022}, {\"epochs\": 43, \"variable\": \"train\", \"value\": 0.0019954034766018164}, {\"epochs\": 44, \"variable\": \"train\", \"value\": 0.003942793813245049}, {\"epochs\": 45, \"variable\": \"train\", \"value\": 0.0019912469661098786}, {\"epochs\": 46, \"variable\": \"train\", \"value\": 0.0023767906615788908}, {\"epochs\": 47, \"variable\": \"train\", \"value\": 0.0014874776397114512}, {\"epochs\": 48, \"variable\": \"train\", \"value\": 0.001376365372104663}, {\"epochs\": 49, \"variable\": \"train\", \"value\": 0.0012132167759069537}, {\"epochs\": 50, \"variable\": \"train\", \"value\": 0.0011873399960126913}, {\"epochs\": 51, \"variable\": \"train\", \"value\": 0.001946609652818848}, {\"epochs\": 52, \"variable\": \"train\", \"value\": 0.0015722188698948571}, {\"epochs\": 53, \"variable\": \"train\", \"value\": 0.0010438161506049935}, {\"epochs\": 54, \"variable\": \"train\", \"value\": 0.002023695472099772}, {\"epochs\": 55, \"variable\": \"train\", \"value\": 0.001974423498029453}, {\"epochs\": 56, \"variable\": \"train\", \"value\": 0.002902342327709856}, {\"epochs\": 57, \"variable\": \"train\", \"value\": 0.0039881804665386445}, {\"epochs\": 58, \"variable\": \"train\", \"value\": 0.0014658664206892138}, {\"epochs\": 59, \"variable\": \"train\", \"value\": 0.0036273549571347874}, {\"epochs\": 60, \"variable\": \"train\", \"value\": 0.0009413209861551208}, {\"epochs\": 61, \"variable\": \"train\", \"value\": 0.003300579086345731}, {\"epochs\": 62, \"variable\": \"train\", \"value\": 0.001378207884985825}, {\"epochs\": 63, \"variable\": \"train\", \"value\": 0.0012402746012841147}, {\"epochs\": 64, \"variable\": \"train\", \"value\": 0.0009499051504664951}, {\"epochs\": 65, \"variable\": \"train\", \"value\": 0.0006152788998730395}, {\"epochs\": 66, \"variable\": \"train\", \"value\": 0.0006418341977728738}, {\"epochs\": 67, \"variable\": \"train\", \"value\": 0.0005703482819699693}, {\"epochs\": 68, \"variable\": \"train\", \"value\": 0.0009073405544419855}, {\"epochs\": 69, \"variable\": \"train\", \"value\": 0.0006949893302387662}, {\"epochs\": 70, \"variable\": \"train\", \"value\": 0.0003397709465232389}, {\"epochs\": 71, \"variable\": \"train\", \"value\": 0.0005813955375746292}, {\"epochs\": 72, \"variable\": \"train\", \"value\": 0.00028395324845537827}, {\"epochs\": 73, \"variable\": \"train\", \"value\": 0.0003483372729742664}, {\"epochs\": 74, \"variable\": \"train\", \"value\": 0.0002886121200533206}, {\"epochs\": 75, \"variable\": \"train\", \"value\": 0.0001939954039894073}, {\"epochs\": 76, \"variable\": \"train\", \"value\": 0.00019575038503755554}, {\"epochs\": 77, \"variable\": \"train\", \"value\": 0.00014786692862523812}, {\"epochs\": 78, \"variable\": \"train\", \"value\": 0.00020828013133500272}, {\"epochs\": 79, \"variable\": \"train\", \"value\": 0.00014014426490356182}, {\"epochs\": 80, \"variable\": \"train\", \"value\": 0.00019232626519098136}, {\"epochs\": 81, \"variable\": \"train\", \"value\": 0.00011665643535383132}, {\"epochs\": 82, \"variable\": \"train\", \"value\": 0.00010283683388542127}, {\"epochs\": 83, \"variable\": \"train\", \"value\": 0.00011889370679284421}, {\"epochs\": 84, \"variable\": \"train\", \"value\": 0.00010470516615729222}, {\"epochs\": 85, \"variable\": \"train\", \"value\": 0.00011804379465707874}, {\"epochs\": 86, \"variable\": \"train\", \"value\": 9.904115441187474e-05}, {\"epochs\": 87, \"variable\": \"train\", \"value\": 0.00014741783355045135}, {\"epochs\": 88, \"variable\": \"train\", \"value\": 0.00010698844082796254}, {\"epochs\": 89, \"variable\": \"train\", \"value\": 0.00015793097744271216}, {\"epochs\": 90, \"variable\": \"train\", \"value\": 0.0001519784452643431}, {\"epochs\": 91, \"variable\": \"train\", \"value\": 0.00016962003205471112}, {\"epochs\": 92, \"variable\": \"train\", \"value\": 0.0004387107460092311}, {\"epochs\": 93, \"variable\": \"train\", \"value\": 0.0007891652648875997}, {\"epochs\": 94, \"variable\": \"train\", \"value\": 0.0023469405669818894}, {\"epochs\": 95, \"variable\": \"train\", \"value\": 0.002029723676913543}, {\"epochs\": 96, \"variable\": \"train\", \"value\": 0.0021001938659112574}, {\"epochs\": 97, \"variable\": \"train\", \"value\": 0.0036429523015787317}, {\"epochs\": 98, \"variable\": \"train\", \"value\": 0.0011897473042952146}, {\"epochs\": 99, \"variable\": \"train\", \"value\": 0.0009649663849580334}, {\"epochs\": 0, \"variable\": \"test\", \"value\": 0.05681215450826999}, {\"epochs\": 1, \"variable\": \"test\", \"value\": 0.04871778994534923}, {\"epochs\": 2, \"variable\": \"test\", \"value\": 0.043999176109786584}, {\"epochs\": 3, \"variable\": \"test\", \"value\": 0.05489368354324746}, {\"epochs\": 4, \"variable\": \"test\", \"value\": 0.04458187586438339}, {\"epochs\": 5, \"variable\": \"test\", \"value\": 0.039321717962754514}, {\"epochs\": 6, \"variable\": \"test\", \"value\": 0.04185502930025084}, {\"epochs\": 7, \"variable\": \"test\", \"value\": 0.040157263257862195}, {\"epochs\": 8, \"variable\": \"test\", \"value\": 0.040466730573536024}, {\"epochs\": 9, \"variable\": \"test\", \"value\": 0.03666472065765246}, {\"epochs\": 10, \"variable\": \"test\", \"value\": 0.04564285884916255}, {\"epochs\": 11, \"variable\": \"test\", \"value\": 0.04764755162517581}, {\"epochs\": 12, \"variable\": \"test\", \"value\": 0.03469142871620381}, {\"epochs\": 13, \"variable\": \"test\", \"value\": 0.031944817146368785}, {\"epochs\": 14, \"variable\": \"test\", \"value\": 0.047228231894231476}, {\"epochs\": 15, \"variable\": \"test\", \"value\": 0.0408447310987827}, {\"epochs\": 16, \"variable\": \"test\", \"value\": 0.030498534177256897}, {\"epochs\": 17, \"variable\": \"test\", \"value\": 0.0441119153942682}, {\"epochs\": 18, \"variable\": \"test\", \"value\": 0.04239479050172114}, {\"epochs\": 19, \"variable\": \"test\", \"value\": 0.033455445966889374}, {\"epochs\": 20, \"variable\": \"test\", \"value\": 0.028342442966140476}, {\"epochs\": 21, \"variable\": \"test\", \"value\": 0.032431997556602005}, {\"epochs\": 22, \"variable\": \"test\", \"value\": 0.033495407188888146}, {\"epochs\": 23, \"variable\": \"test\", \"value\": 0.025889284051625074}, {\"epochs\": 24, \"variable\": \"test\", \"value\": 0.034488850990227894}, {\"epochs\": 25, \"variable\": \"test\", \"value\": 0.0281470257096586}, {\"epochs\": 26, \"variable\": \"test\", \"value\": 0.025585000757622507}, {\"epochs\": 27, \"variable\": \"test\", \"value\": 0.03387575181184617}, {\"epochs\": 28, \"variable\": \"test\", \"value\": 0.04311120984828578}, {\"epochs\": 29, \"variable\": \"test\", \"value\": 0.03150275283682663}, {\"epochs\": 30, \"variable\": \"test\", \"value\": 0.02971167203071898}, {\"epochs\": 31, \"variable\": \"test\", \"value\": 0.03948140012479461}, {\"epochs\": 32, \"variable\": \"test\", \"value\": 0.02706845302497391}, {\"epochs\": 33, \"variable\": \"test\", \"value\": 0.02296498747526017}, {\"epochs\": 34, \"variable\": \"test\", \"value\": 0.03789455041421198}, {\"epochs\": 35, \"variable\": \"test\", \"value\": 0.04069238795643359}, {\"epochs\": 36, \"variable\": \"test\", \"value\": 0.024890084050397956}, {\"epochs\": 37, \"variable\": \"test\", \"value\": 0.026162406512066326}, {\"epochs\": 38, \"variable\": \"test\", \"value\": 0.03405394543588689}, {\"epochs\": 39, \"variable\": \"test\", \"value\": 0.04364242912393756}, {\"epochs\": 40, \"variable\": \"test\", \"value\": 0.027139150067768264}, {\"epochs\": 41, \"variable\": \"test\", \"value\": 0.024966372720963134}, {\"epochs\": 42, \"variable\": \"test\", \"value\": 0.026480501995677443}, {\"epochs\": 43, \"variable\": \"test\", \"value\": 0.04032684823053073}, {\"epochs\": 44, \"variable\": \"test\", \"value\": 0.03528072322364402}, {\"epochs\": 45, \"variable\": \"test\", \"value\": 0.032423428597703446}, {\"epochs\": 46, \"variable\": \"test\", \"value\": 0.026425560161603235}, {\"epochs\": 47, \"variable\": \"test\", \"value\": 0.025408505008811446}, {\"epochs\": 48, \"variable\": \"test\", \"value\": 0.02578940189781442}, {\"epochs\": 49, \"variable\": \"test\", \"value\": 0.025688147254749737}, {\"epochs\": 50, \"variable\": \"test\", \"value\": 0.025443476649512232}, {\"epochs\": 51, \"variable\": \"test\", \"value\": 0.022666589480585756}, {\"epochs\": 52, \"variable\": \"test\", \"value\": 0.02522659196262866}, {\"epochs\": 53, \"variable\": \"test\", \"value\": 0.03462415762179721}, {\"epochs\": 54, \"variable\": \"test\", \"value\": 0.04360354935700914}, {\"epochs\": 55, \"variable\": \"test\", \"value\": 0.024485909108039553}, {\"epochs\": 56, \"variable\": \"test\", \"value\": 0.030621680538211248}, {\"epochs\": 57, \"variable\": \"test\", \"value\": 0.03982284454117834}, {\"epochs\": 58, \"variable\": \"test\", \"value\": 0.028970074436042163}, {\"epochs\": 59, \"variable\": \"test\", \"value\": 0.028758555386973694}, {\"epochs\": 60, \"variable\": \"test\", \"value\": 0.059349982084426205}, {\"epochs\": 61, \"variable\": \"test\", \"value\": 0.03130325516768261}, {\"epochs\": 62, \"variable\": \"test\", \"value\": 0.020450137225927506}, {\"epochs\": 63, \"variable\": \"test\", \"value\": 0.020041698771240436}, {\"epochs\": 64, \"variable\": \"test\", \"value\": 0.02483420219041605}, {\"epochs\": 65, \"variable\": \"test\", \"value\": 0.02843329547780805}, {\"epochs\": 66, \"variable\": \"test\", \"value\": 0.024997974391532157}, {\"epochs\": 67, \"variable\": \"test\", \"value\": 0.02162050858008123}, {\"epochs\": 68, \"variable\": \"test\", \"value\": 0.022027451841704612}, {\"epochs\": 69, \"variable\": \"test\", \"value\": 0.023164477627889243}, {\"epochs\": 70, \"variable\": \"test\", \"value\": 0.03099994605357668}, {\"epochs\": 71, \"variable\": \"test\", \"value\": 0.030053222601392628}, {\"epochs\": 72, \"variable\": \"test\", \"value\": 0.023866801234209433}, {\"epochs\": 73, \"variable\": \"test\", \"value\": 0.023477964655422005}, {\"epochs\": 74, \"variable\": \"test\", \"value\": 0.030629858176792618}, {\"epochs\": 75, \"variable\": \"test\", \"value\": 0.03714062378997297}, {\"epochs\": 76, \"variable\": \"test\", \"value\": 0.03949251830314113}, {\"epochs\": 77, \"variable\": \"test\", \"value\": 0.039629396150069954}, {\"epochs\": 78, \"variable\": \"test\", \"value\": 0.03922130444408518}, {\"epochs\": 79, \"variable\": \"test\", \"value\": 0.03793797602431964}, {\"epochs\": 80, \"variable\": \"test\", \"value\": 0.03752458023022762}, {\"epochs\": 81, \"variable\": \"test\", \"value\": 0.036921341038119476}, {\"epochs\": 82, \"variable\": \"test\", \"value\": 0.03657391120110993}, {\"epochs\": 83, \"variable\": \"test\", \"value\": 0.035937048923389045}, {\"epochs\": 84, \"variable\": \"test\", \"value\": 0.03535134572766523}, {\"epochs\": 85, \"variable\": \"test\", \"value\": 0.03415496667138243}, {\"epochs\": 86, \"variable\": \"test\", \"value\": 0.032915571424285923}, {\"epochs\": 87, \"variable\": \"test\", \"value\": 0.033328931646800675}, {\"epochs\": 88, \"variable\": \"test\", \"value\": 0.03529580779769252}, {\"epochs\": 89, \"variable\": \"test\", \"value\": 0.0368438579010225}, {\"epochs\": 90, \"variable\": \"test\", \"value\": 0.03724510631466334}, {\"epochs\": 91, \"variable\": \"test\", \"value\": 0.03404866849624478}, {\"epochs\": 92, \"variable\": \"test\", \"value\": 0.0319279763946491}, {\"epochs\": 93, \"variable\": \"test\", \"value\": 0.03327172651755071}, {\"epochs\": 94, \"variable\": \"test\", \"value\": 0.051047435178693416}, {\"epochs\": 95, \"variable\": \"test\", \"value\": 0.05432616899498796}, {\"epochs\": 96, \"variable\": \"test\", \"value\": 0.0357323073971588}, {\"epochs\": 97, \"variable\": \"test\", \"value\": 0.03155629851121818}, {\"epochs\": 98, \"variable\": \"test\", \"value\": 0.03604244922114685}, {\"epochs\": 99, \"variable\": \"test\", \"value\": 0.024001266049072805}]}}, {\"mode\": \"vega-lite\"});\n",
              "</script>"
            ],
            "text/plain": [
              "alt.HConcatChart(...)"
            ]
          },
          "metadata": {},
          "execution_count": 12
        }
      ],
      "source": [
        "# I create the dataframes\n",
        "train_val_acc_df = pd.DataFrame.from_dict(accuracy_stats_Classifieur).reset_index().melt(id_vars=['index']).rename(columns={\"index\":\"epochs\"})\n",
        "train_val_loss_df = pd.DataFrame.from_dict(loss_stats_Classifieur).reset_index().melt(id_vars=['index']).rename(columns={\"index\":\"epochs\"})\n",
        "\n",
        "#I trace loss and accuracy for train and test\n",
        "\n",
        "\n",
        "char1=alt.Chart(train_val_acc_df).mark_line().encode(\n",
        "            x=alt.X('epochs:O',scale=alt.Scale(zero=False)),\n",
        "            y=alt.Y('value:Q',scale=alt.Scale(zero=False)),\n",
        "            color='variable:N').properties(height=300,width=300,title='Accuracy')\n",
        "\n",
        "\n",
        "char2=alt.Chart(train_val_loss_df).mark_line().encode(\n",
        "            x='epochs:O',\n",
        "            y='value:Q',\n",
        "            color='variable:N').properties(height=300,width=300,title='Loss')\n",
        "\n",
        "alt.hconcat(char1,char2).resolve_scale(y='independent')"
      ]
    },
    {
      "cell_type": "markdown",
      "metadata": {
        "id": "DDY7hw5Sa1Pu"
      },
      "source": [
        "#Features selection avec Resnet34"
      ]
    },
    {
      "cell_type": "code",
      "execution_count": null,
      "metadata": {
        "id": "q0sijHKOaVOl",
        "colab": {
          "base_uri": "https://localhost:8080/",
          "height": 66,
          "referenced_widgets": [
            "b89972a675f34cb2b8178c9981ec65bf",
            "91780844931b498081eb5abbdf6a3c57",
            "d207f14e3b264e538a1da0cdf3876ae0",
            "5bf238e73c684603b13131acd7dd34ff",
            "624c29e5bc4c4a668f539cd2f714ac2d",
            "de2c6de7af0d485a9b42be7e08c40e1d",
            "aec73e8cd3fb4a74a6e09d5bfc423847",
            "f00c6fde0e10477c9a7a0adaab4031da",
            "462ae02adba9460e89f1020eb88b803c",
            "ecf014e002e541d19c8c6d2b9b98ffa6",
            "3b2d64c6e8c64e7daa8c4dfca81ea7ac"
          ]
        },
        "outputId": "01deb95b-b16d-4753-a4be-f1ded1d1e04a"
      },
      "outputs": [
        {
          "output_type": "stream",
          "name": "stderr",
          "text": [
            "Downloading: \"https://download.pytorch.org/models/resnet34-b627a593.pth\" to /root/.cache/torch/hub/checkpoints/resnet34-b627a593.pth\n"
          ]
        },
        {
          "output_type": "display_data",
          "data": {
            "text/plain": [
              "  0%|          | 0.00/83.3M [00:00<?, ?B/s]"
            ],
            "application/vnd.jupyter.widget-view+json": {
              "version_major": 2,
              "version_minor": 0,
              "model_id": "b89972a675f34cb2b8178c9981ec65bf"
            }
          },
          "metadata": {}
        }
      ],
      "source": [
        "model = resnet34(pretrained=True)\n",
        "\n",
        "for param in model.parameters():\n",
        "    param.requires_grad=False   #We don't need the gradient for these layers\n",
        "\n",
        "\n",
        "num_ftrs = model.fc.in_features\n",
        "model.fc = nn.Linear(num_ftrs, 6)  #Gradient defaults to True"
      ]
    },
    {
      "cell_type": "code",
      "execution_count": null,
      "metadata": {
        "colab": {
          "base_uri": "https://localhost:8080/"
        },
        "id": "jZX-yJ1waVRP",
        "outputId": "173c4f9e-cb1b-4b48-ea35-040c0755f267"
      },
      "outputs": [
        {
          "output_type": "stream",
          "name": "stdout",
          "text": [
            "epoch[1/100]\t train loss:0.019\t test loss: 0.052\n",
            "epoch[2/100]\t train loss:0.017\t test loss: 0.045\n",
            "epoch[3/100]\t train loss:0.013\t test loss: 0.038\n",
            "epoch[4/100]\t train loss:0.012\t test loss: 0.033\n",
            "epoch[5/100]\t train loss:0.011\t test loss: 0.031\n",
            "epoch[6/100]\t train loss:0.008\t test loss: 0.029\n",
            "epoch[7/100]\t train loss:0.008\t test loss: 0.029\n",
            "epoch[8/100]\t train loss:0.008\t test loss: 0.028\n",
            "epoch[9/100]\t train loss:0.007\t test loss: 0.025\n",
            "epoch[10/100]\t train loss:0.006\t test loss: 0.023\n",
            "epoch[11/100]\t train loss:0.007\t test loss: 0.021\n",
            "epoch[12/100]\t train loss:0.007\t test loss: 0.019\n",
            "epoch[13/100]\t train loss:0.006\t test loss: 0.018\n",
            "epoch[14/100]\t train loss:0.006\t test loss: 0.018\n",
            "epoch[15/100]\t train loss:0.005\t test loss: 0.018\n",
            "epoch[16/100]\t train loss:0.004\t test loss: 0.018\n",
            "epoch[17/100]\t train loss:0.005\t test loss: 0.017\n",
            "epoch[18/100]\t train loss:0.005\t test loss: 0.016\n",
            "epoch[19/100]\t train loss:0.004\t test loss: 0.015\n",
            "epoch[20/100]\t train loss:0.004\t test loss: 0.015\n",
            "epoch[21/100]\t train loss:0.004\t test loss: 0.015\n",
            "epoch[22/100]\t train loss:0.006\t test loss: 0.015\n",
            "epoch[23/100]\t train loss:0.004\t test loss: 0.014\n",
            "epoch[24/100]\t train loss:0.004\t test loss: 0.013\n",
            "epoch[25/100]\t train loss:0.007\t test loss: 0.013\n",
            "epoch[26/100]\t train loss:0.003\t test loss: 0.013\n",
            "epoch[27/100]\t train loss:0.005\t test loss: 0.012\n",
            "epoch[28/100]\t train loss:0.003\t test loss: 0.013\n",
            "epoch[29/100]\t train loss:0.003\t test loss: 0.013\n",
            "epoch[30/100]\t train loss:0.004\t test loss: 0.012\n",
            "epoch[31/100]\t train loss:0.004\t test loss: 0.012\n",
            "epoch[32/100]\t train loss:0.003\t test loss: 0.011\n",
            "epoch[33/100]\t train loss:0.003\t test loss: 0.011\n",
            "epoch[34/100]\t train loss:0.003\t test loss: 0.011\n",
            "epoch[35/100]\t train loss:0.004\t test loss: 0.011\n",
            "epoch[36/100]\t train loss:0.005\t test loss: 0.012\n",
            "epoch[37/100]\t train loss:0.003\t test loss: 0.012\n",
            "epoch[38/100]\t train loss:0.003\t test loss: 0.011\n",
            "epoch[39/100]\t train loss:0.004\t test loss: 0.011\n",
            "epoch[40/100]\t train loss:0.003\t test loss: 0.010\n",
            "epoch[41/100]\t train loss:0.002\t test loss: 0.010\n",
            "epoch[42/100]\t train loss:0.003\t test loss: 0.010\n",
            "epoch[43/100]\t train loss:0.002\t test loss: 0.010\n",
            "epoch[44/100]\t train loss:0.003\t test loss: 0.010\n",
            "epoch[45/100]\t train loss:0.002\t test loss: 0.009\n",
            "epoch[46/100]\t train loss:0.003\t test loss: 0.009\n",
            "epoch[47/100]\t train loss:0.003\t test loss: 0.009\n",
            "epoch[48/100]\t train loss:0.002\t test loss: 0.009\n",
            "epoch[49/100]\t train loss:0.002\t test loss: 0.009\n",
            "epoch[50/100]\t train loss:0.002\t test loss: 0.009\n",
            "epoch[51/100]\t train loss:0.002\t test loss: 0.009\n",
            "epoch[52/100]\t train loss:0.002\t test loss: 0.008\n",
            "epoch[53/100]\t train loss:0.002\t test loss: 0.008\n",
            "epoch[54/100]\t train loss:0.002\t test loss: 0.008\n",
            "epoch[55/100]\t train loss:0.002\t test loss: 0.008\n",
            "epoch[56/100]\t train loss:0.002\t test loss: 0.008\n",
            "epoch[57/100]\t train loss:0.002\t test loss: 0.008\n",
            "epoch[58/100]\t train loss:0.002\t test loss: 0.008\n",
            "epoch[59/100]\t train loss:0.002\t test loss: 0.008\n",
            "epoch[60/100]\t train loss:0.002\t test loss: 0.008\n",
            "epoch[61/100]\t train loss:0.002\t test loss: 0.008\n",
            "epoch[62/100]\t train loss:0.002\t test loss: 0.008\n",
            "epoch[63/100]\t train loss:0.002\t test loss: 0.008\n",
            "epoch[64/100]\t train loss:0.002\t test loss: 0.008\n",
            "epoch[65/100]\t train loss:0.002\t test loss: 0.008\n",
            "epoch[66/100]\t train loss:0.002\t test loss: 0.008\n",
            "epoch[67/100]\t train loss:0.002\t test loss: 0.008\n",
            "epoch[68/100]\t train loss:0.002\t test loss: 0.007\n",
            "epoch[69/100]\t train loss:0.002\t test loss: 0.007\n",
            "epoch[70/100]\t train loss:0.002\t test loss: 0.007\n",
            "epoch[71/100]\t train loss:0.002\t test loss: 0.007\n",
            "epoch[72/100]\t train loss:0.002\t test loss: 0.007\n",
            "epoch[73/100]\t train loss:0.002\t test loss: 0.007\n",
            "epoch[74/100]\t train loss:0.001\t test loss: 0.007\n",
            "epoch[75/100]\t train loss:0.002\t test loss: 0.007\n",
            "epoch[76/100]\t train loss:0.002\t test loss: 0.007\n",
            "epoch[77/100]\t train loss:0.001\t test loss: 0.007\n",
            "epoch[78/100]\t train loss:0.001\t test loss: 0.008\n",
            "epoch[79/100]\t train loss:0.002\t test loss: 0.007\n",
            "epoch[80/100]\t train loss:0.001\t test loss: 0.007\n",
            "epoch[81/100]\t train loss:0.002\t test loss: 0.006\n",
            "epoch[82/100]\t train loss:0.002\t test loss: 0.006\n",
            "epoch[83/100]\t train loss:0.001\t test loss: 0.006\n",
            "epoch[84/100]\t train loss:0.001\t test loss: 0.006\n",
            "epoch[85/100]\t train loss:0.001\t test loss: 0.006\n",
            "epoch[86/100]\t train loss:0.002\t test loss: 0.007\n",
            "epoch[87/100]\t train loss:0.001\t test loss: 0.007\n",
            "epoch[88/100]\t train loss:0.002\t test loss: 0.007\n",
            "epoch[89/100]\t train loss:0.001\t test loss: 0.006\n",
            "epoch[90/100]\t train loss:0.001\t test loss: 0.006\n",
            "epoch[91/100]\t train loss:0.001\t test loss: 0.006\n",
            "epoch[92/100]\t train loss:0.002\t test loss: 0.006\n",
            "epoch[93/100]\t train loss:0.001\t test loss: 0.006\n",
            "epoch[94/100]\t train loss:0.002\t test loss: 0.006\n",
            "epoch[95/100]\t train loss:0.001\t test loss: 0.006\n",
            "epoch[96/100]\t train loss:0.001\t test loss: 0.006\n",
            "epoch[97/100]\t train loss:0.001\t test loss: 0.006\n",
            "epoch[98/100]\t train loss:0.001\t test loss: 0.006\n",
            "epoch[99/100]\t train loss:0.002\t test loss: 0.006\n",
            "epoch[100/100]\t train loss:0.001\t test loss: 0.006\n",
            "(time: 5490.775799512863\n"
          ]
        }
      ],
      "source": [
        "optimizer=torch.optim.Adam(model.fc.parameters()) #Only the parameters of the last layer are updated\n",
        "\n",
        "\n",
        "\n",
        "best_model, accuracy_stats_resnet, loss_stats_resnet=\\\n",
        "        train(model=model, optimizer=optimizer,train_loader=train_loader, test_loader=test_loader,path='./classifieur2.pth')"
      ]
    },
    {
      "cell_type": "code",
      "execution_count": null,
      "metadata": {
        "colab": {
          "base_uri": "https://localhost:8080/"
        },
        "id": "Q5S7glLuaVWR",
        "outputId": "777a874d-e03e-4f91-9fa5-b8f87f4ea43a"
      },
      "outputs": [
        {
          "output_type": "stream",
          "name": "stdout",
          "text": [
            "accuracy train best model resnet: 0.98\n",
            "accuracy test best model resnet: 0.97\n"
          ]
        }
      ],
      "source": [
        "i=np.argmax(accuracy_stats_resnet['test'])\n",
        "\n",
        "\n",
        "print(f\"accuracy train best model resnet: {accuracy_stats_resnet['train'][i]:.2f}\")\n",
        "print(f\"accuracy test best model resnet: {accuracy_stats_resnet['test'][i]:.2f}\")"
      ]
    },
    {
      "cell_type": "code",
      "execution_count": null,
      "metadata": {
        "colab": {
          "base_uri": "https://localhost:8080/",
          "height": 389
        },
        "id": "P906howcg3Kz",
        "outputId": "eb700086-0e75-4c48-e1ec-2ea4dd7b7d40"
      },
      "outputs": [
        {
          "output_type": "execute_result",
          "data": {
            "text/html": [
              "\n",
              "<div id=\"altair-viz-a7c2309d58834dbc981961076ee8fe13\"></div>\n",
              "<script type=\"text/javascript\">\n",
              "  var VEGA_DEBUG = (typeof VEGA_DEBUG == \"undefined\") ? {} : VEGA_DEBUG;\n",
              "  (function(spec, embedOpt){\n",
              "    let outputDiv = document.currentScript.previousElementSibling;\n",
              "    if (outputDiv.id !== \"altair-viz-a7c2309d58834dbc981961076ee8fe13\") {\n",
              "      outputDiv = document.getElementById(\"altair-viz-a7c2309d58834dbc981961076ee8fe13\");\n",
              "    }\n",
              "    const paths = {\n",
              "      \"vega\": \"https://cdn.jsdelivr.net/npm//vega@5?noext\",\n",
              "      \"vega-lib\": \"https://cdn.jsdelivr.net/npm//vega-lib?noext\",\n",
              "      \"vega-lite\": \"https://cdn.jsdelivr.net/npm//vega-lite@4.17.0?noext\",\n",
              "      \"vega-embed\": \"https://cdn.jsdelivr.net/npm//vega-embed@6?noext\",\n",
              "    };\n",
              "\n",
              "    function maybeLoadScript(lib, version) {\n",
              "      var key = `${lib.replace(\"-\", \"\")}_version`;\n",
              "      return (VEGA_DEBUG[key] == version) ?\n",
              "        Promise.resolve(paths[lib]) :\n",
              "        new Promise(function(resolve, reject) {\n",
              "          var s = document.createElement('script');\n",
              "          document.getElementsByTagName(\"head\")[0].appendChild(s);\n",
              "          s.async = true;\n",
              "          s.onload = () => {\n",
              "            VEGA_DEBUG[key] = version;\n",
              "            return resolve(paths[lib]);\n",
              "          };\n",
              "          s.onerror = () => reject(`Error loading script: ${paths[lib]}`);\n",
              "          s.src = paths[lib];\n",
              "        });\n",
              "    }\n",
              "\n",
              "    function showError(err) {\n",
              "      outputDiv.innerHTML = `<div class=\"error\" style=\"color:red;\">${err}</div>`;\n",
              "      throw err;\n",
              "    }\n",
              "\n",
              "    function displayChart(vegaEmbed) {\n",
              "      vegaEmbed(outputDiv, spec, embedOpt)\n",
              "        .catch(err => showError(`Javascript Error: ${err.message}<br>This usually means there's a typo in your chart specification. See the javascript console for the full traceback.`));\n",
              "    }\n",
              "\n",
              "    if(typeof define === \"function\" && define.amd) {\n",
              "      requirejs.config({paths});\n",
              "      require([\"vega-embed\"], displayChart, err => showError(`Error loading script: ${err.message}`));\n",
              "    } else {\n",
              "      maybeLoadScript(\"vega\", \"5\")\n",
              "        .then(() => maybeLoadScript(\"vega-lite\", \"4.17.0\"))\n",
              "        .then(() => maybeLoadScript(\"vega-embed\", \"6\"))\n",
              "        .catch(showError)\n",
              "        .then(() => displayChart(vegaEmbed));\n",
              "    }\n",
              "  })({\"config\": {\"view\": {\"continuousWidth\": 400, \"continuousHeight\": 300}}, \"hconcat\": [{\"data\": {\"name\": \"data-790380106e94ed89a22b5b275e6385d9\"}, \"mark\": \"line\", \"encoding\": {\"color\": {\"field\": \"variable\", \"type\": \"nominal\"}, \"x\": {\"field\": \"epochs\", \"scale\": {\"zero\": false}, \"type\": \"ordinal\"}, \"y\": {\"field\": \"value\", \"scale\": {\"zero\": false}, \"type\": \"quantitative\"}}, \"height\": 300, \"title\": \"Accuracy\", \"width\": 300}, {\"data\": {\"name\": \"data-020c8be3783b010cb552a568d8e39a98\"}, \"mark\": \"line\", \"encoding\": {\"color\": {\"field\": \"variable\", \"type\": \"nominal\"}, \"x\": {\"field\": \"epochs\", \"type\": \"ordinal\"}, \"y\": {\"field\": \"value\", \"type\": \"quantitative\"}}, \"height\": 300, \"title\": \"Loss\", \"width\": 300}], \"resolve\": {\"scale\": {\"y\": \"independent\"}}, \"$schema\": \"https://vega.github.io/schema/vega-lite/v4.17.0.json\", \"datasets\": {\"data-790380106e94ed89a22b5b275e6385d9\": [{\"epochs\": 0, \"variable\": \"train\", \"value\": 0.17624521072796934}, {\"epochs\": 1, \"variable\": \"train\", \"value\": 0.3524904214559387}, {\"epochs\": 2, \"variable\": \"train\", \"value\": 0.524904214559387}, {\"epochs\": 3, \"variable\": \"train\", \"value\": 0.6819923371647509}, {\"epochs\": 4, \"variable\": \"train\", \"value\": 0.7241379310344828}, {\"epochs\": 5, \"variable\": \"train\", \"value\": 0.7624521072796935}, {\"epochs\": 6, \"variable\": \"train\", \"value\": 0.8122605363984674}, {\"epochs\": 7, \"variable\": \"train\", \"value\": 0.7777777777777778}, {\"epochs\": 8, \"variable\": \"train\", \"value\": 0.7969348659003831}, {\"epochs\": 9, \"variable\": \"train\", \"value\": 0.8390804597701149}, {\"epochs\": 10, \"variable\": \"train\", \"value\": 0.8505747126436781}, {\"epochs\": 11, \"variable\": \"train\", \"value\": 0.8505747126436781}, {\"epochs\": 12, \"variable\": \"train\", \"value\": 0.8505747126436781}, {\"epochs\": 13, \"variable\": \"train\", \"value\": 0.8505747126436781}, {\"epochs\": 14, \"variable\": \"train\", \"value\": 0.8735632183908046}, {\"epochs\": 15, \"variable\": \"train\", \"value\": 0.8735632183908046}, {\"epochs\": 16, \"variable\": \"train\", \"value\": 0.8773946360153256}, {\"epochs\": 17, \"variable\": \"train\", \"value\": 0.8812260536398467}, {\"epochs\": 18, \"variable\": \"train\", \"value\": 0.8812260536398467}, {\"epochs\": 19, \"variable\": \"train\", \"value\": 0.8812260536398467}, {\"epochs\": 20, \"variable\": \"train\", \"value\": 0.8850574712643678}, {\"epochs\": 21, \"variable\": \"train\", \"value\": 0.8850574712643678}, {\"epochs\": 22, \"variable\": \"train\", \"value\": 0.8888888888888888}, {\"epochs\": 23, \"variable\": \"train\", \"value\": 0.9003831417624522}, {\"epochs\": 24, \"variable\": \"train\", \"value\": 0.896551724137931}, {\"epochs\": 25, \"variable\": \"train\", \"value\": 0.89272030651341}, {\"epochs\": 26, \"variable\": \"train\", \"value\": 0.9042145593869731}, {\"epochs\": 27, \"variable\": \"train\", \"value\": 0.9118773946360154}, {\"epochs\": 28, \"variable\": \"train\", \"value\": 0.9157088122605364}, {\"epochs\": 29, \"variable\": \"train\", \"value\": 0.9272030651340997}, {\"epochs\": 30, \"variable\": \"train\", \"value\": 0.9233716475095786}, {\"epochs\": 31, \"variable\": \"train\", \"value\": 0.9195402298850575}, {\"epochs\": 32, \"variable\": \"train\", \"value\": 0.9195402298850575}, {\"epochs\": 33, \"variable\": \"train\", \"value\": 0.9272030651340997}, {\"epochs\": 34, \"variable\": \"train\", \"value\": 0.9310344827586207}, {\"epochs\": 35, \"variable\": \"train\", \"value\": 0.9348659003831418}, {\"epochs\": 36, \"variable\": \"train\", \"value\": 0.9233716475095786}, {\"epochs\": 37, \"variable\": \"train\", \"value\": 0.9272030651340997}, {\"epochs\": 38, \"variable\": \"train\", \"value\": 0.9348659003831418}, {\"epochs\": 39, \"variable\": \"train\", \"value\": 0.946360153256705}, {\"epochs\": 40, \"variable\": \"train\", \"value\": 0.9386973180076629}, {\"epochs\": 41, \"variable\": \"train\", \"value\": 0.9425287356321839}, {\"epochs\": 42, \"variable\": \"train\", \"value\": 0.9501915708812261}, {\"epochs\": 43, \"variable\": \"train\", \"value\": 0.9540229885057471}, {\"epochs\": 44, \"variable\": \"train\", \"value\": 0.9501915708812261}, {\"epochs\": 45, \"variable\": \"train\", \"value\": 0.9501915708812261}, {\"epochs\": 46, \"variable\": \"train\", \"value\": 0.9578544061302682}, {\"epochs\": 47, \"variable\": \"train\", \"value\": 0.9578544061302682}, {\"epochs\": 48, \"variable\": \"train\", \"value\": 0.9578544061302682}, {\"epochs\": 49, \"variable\": \"train\", \"value\": 0.9501915708812261}, {\"epochs\": 50, \"variable\": \"train\", \"value\": 0.9616858237547893}, {\"epochs\": 51, \"variable\": \"train\", \"value\": 0.9578544061302682}, {\"epochs\": 52, \"variable\": \"train\", \"value\": 0.9655172413793104}, {\"epochs\": 53, \"variable\": \"train\", \"value\": 0.9616858237547893}, {\"epochs\": 54, \"variable\": \"train\", \"value\": 0.9655172413793104}, {\"epochs\": 55, \"variable\": \"train\", \"value\": 0.9655172413793104}, {\"epochs\": 56, \"variable\": \"train\", \"value\": 0.9655172413793104}, {\"epochs\": 57, \"variable\": \"train\", \"value\": 0.9655172413793104}, {\"epochs\": 58, \"variable\": \"train\", \"value\": 0.9655172413793104}, {\"epochs\": 59, \"variable\": \"train\", \"value\": 0.9655172413793104}, {\"epochs\": 60, \"variable\": \"train\", \"value\": 0.9693486590038314}, {\"epochs\": 61, \"variable\": \"train\", \"value\": 0.9731800766283525}, {\"epochs\": 62, \"variable\": \"train\", \"value\": 0.9693486590038314}, {\"epochs\": 63, \"variable\": \"train\", \"value\": 0.9693486590038314}, {\"epochs\": 64, \"variable\": \"train\", \"value\": 0.9693486590038314}, {\"epochs\": 65, \"variable\": \"train\", \"value\": 0.9616858237547893}, {\"epochs\": 66, \"variable\": \"train\", \"value\": 0.9655172413793104}, {\"epochs\": 67, \"variable\": \"train\", \"value\": 0.9655172413793104}, {\"epochs\": 68, \"variable\": \"train\", \"value\": 0.9731800766283525}, {\"epochs\": 69, \"variable\": \"train\", \"value\": 0.9693486590038314}, {\"epochs\": 70, \"variable\": \"train\", \"value\": 0.9693486590038314}, {\"epochs\": 71, \"variable\": \"train\", \"value\": 0.9731800766283525}, {\"epochs\": 72, \"variable\": \"train\", \"value\": 0.9731800766283525}, {\"epochs\": 73, \"variable\": \"train\", \"value\": 0.9770114942528736}, {\"epochs\": 74, \"variable\": \"train\", \"value\": 0.9770114942528736}, {\"epochs\": 75, \"variable\": \"train\", \"value\": 0.9770114942528736}, {\"epochs\": 76, \"variable\": \"train\", \"value\": 0.9770114942528736}, {\"epochs\": 77, \"variable\": \"train\", \"value\": 0.9731800766283525}, {\"epochs\": 78, \"variable\": \"train\", \"value\": 0.9731800766283525}, {\"epochs\": 79, \"variable\": \"train\", \"value\": 0.9731800766283525}, {\"epochs\": 80, \"variable\": \"train\", \"value\": 0.9770114942528736}, {\"epochs\": 81, \"variable\": \"train\", \"value\": 0.9846743295019157}, {\"epochs\": 82, \"variable\": \"train\", \"value\": 0.9808429118773946}, {\"epochs\": 83, \"variable\": \"train\", \"value\": 0.9808429118773946}, {\"epochs\": 84, \"variable\": \"train\", \"value\": 0.9808429118773946}, {\"epochs\": 85, \"variable\": \"train\", \"value\": 0.9808429118773946}, {\"epochs\": 86, \"variable\": \"train\", \"value\": 0.9808429118773946}, {\"epochs\": 87, \"variable\": \"train\", \"value\": 0.9808429118773946}, {\"epochs\": 88, \"variable\": \"train\", \"value\": 0.9846743295019157}, {\"epochs\": 89, \"variable\": \"train\", \"value\": 0.9808429118773946}, {\"epochs\": 90, \"variable\": \"train\", \"value\": 0.9808429118773946}, {\"epochs\": 91, \"variable\": \"train\", \"value\": 0.9808429118773946}, {\"epochs\": 92, \"variable\": \"train\", \"value\": 0.9808429118773946}, {\"epochs\": 93, \"variable\": \"train\", \"value\": 0.9846743295019157}, {\"epochs\": 94, \"variable\": \"train\", \"value\": 0.9770114942528736}, {\"epochs\": 95, \"variable\": \"train\", \"value\": 0.9770114942528736}, {\"epochs\": 96, \"variable\": \"train\", \"value\": 0.9770114942528736}, {\"epochs\": 97, \"variable\": \"train\", \"value\": 0.9808429118773946}, {\"epochs\": 98, \"variable\": \"train\", \"value\": 0.9846743295019157}, {\"epochs\": 99, \"variable\": \"train\", \"value\": 0.9885057471264368}, {\"epochs\": 0, \"variable\": \"test\", \"value\": 0.3008849557522124}, {\"epochs\": 1, \"variable\": \"test\", \"value\": 0.45132743362831856}, {\"epochs\": 2, \"variable\": \"test\", \"value\": 0.6371681415929203}, {\"epochs\": 3, \"variable\": \"test\", \"value\": 0.7522123893805309}, {\"epochs\": 4, \"variable\": \"test\", \"value\": 0.7522123893805309}, {\"epochs\": 5, \"variable\": \"test\", \"value\": 0.7787610619469026}, {\"epochs\": 6, \"variable\": \"test\", \"value\": 0.7079646017699115}, {\"epochs\": 7, \"variable\": \"test\", \"value\": 0.7433628318584071}, {\"epochs\": 8, \"variable\": \"test\", \"value\": 0.7787610619469026}, {\"epochs\": 9, \"variable\": \"test\", \"value\": 0.8407079646017699}, {\"epochs\": 10, \"variable\": \"test\", \"value\": 0.8495575221238938}, {\"epochs\": 11, \"variable\": \"test\", \"value\": 0.8495575221238938}, {\"epochs\": 12, \"variable\": \"test\", \"value\": 0.8672566371681416}, {\"epochs\": 13, \"variable\": \"test\", \"value\": 0.8849557522123894}, {\"epochs\": 14, \"variable\": \"test\", \"value\": 0.8849557522123894}, {\"epochs\": 15, \"variable\": \"test\", \"value\": 0.8407079646017699}, {\"epochs\": 16, \"variable\": \"test\", \"value\": 0.8849557522123894}, {\"epochs\": 17, \"variable\": \"test\", \"value\": 0.9026548672566371}, {\"epochs\": 18, \"variable\": \"test\", \"value\": 0.8849557522123894}, {\"epochs\": 19, \"variable\": \"test\", \"value\": 0.8761061946902655}, {\"epochs\": 20, \"variable\": \"test\", \"value\": 0.8761061946902655}, {\"epochs\": 21, \"variable\": \"test\", \"value\": 0.8849557522123894}, {\"epochs\": 22, \"variable\": \"test\", \"value\": 0.8938053097345132}, {\"epochs\": 23, \"variable\": \"test\", \"value\": 0.9203539823008849}, {\"epochs\": 24, \"variable\": \"test\", \"value\": 0.9026548672566371}, {\"epochs\": 25, \"variable\": \"test\", \"value\": 0.9203539823008849}, {\"epochs\": 26, \"variable\": \"test\", \"value\": 0.9380530973451328}, {\"epochs\": 27, \"variable\": \"test\", \"value\": 0.9203539823008849}, {\"epochs\": 28, \"variable\": \"test\", \"value\": 0.9203539823008849}, {\"epochs\": 29, \"variable\": \"test\", \"value\": 0.9203539823008849}, {\"epochs\": 30, \"variable\": \"test\", \"value\": 0.9380530973451328}, {\"epochs\": 31, \"variable\": \"test\", \"value\": 0.9203539823008849}, {\"epochs\": 32, \"variable\": \"test\", \"value\": 0.9203539823008849}, {\"epochs\": 33, \"variable\": \"test\", \"value\": 0.9203539823008849}, {\"epochs\": 34, \"variable\": \"test\", \"value\": 0.9469026548672567}, {\"epochs\": 35, \"variable\": \"test\", \"value\": 0.9380530973451328}, {\"epochs\": 36, \"variable\": \"test\", \"value\": 0.9380530973451328}, {\"epochs\": 37, \"variable\": \"test\", \"value\": 0.9380530973451328}, {\"epochs\": 38, \"variable\": \"test\", \"value\": 0.9469026548672567}, {\"epochs\": 39, \"variable\": \"test\", \"value\": 0.9557522123893806}, {\"epochs\": 40, \"variable\": \"test\", \"value\": 0.9557522123893806}, {\"epochs\": 41, \"variable\": \"test\", \"value\": 0.9557522123893806}, {\"epochs\": 42, \"variable\": \"test\", \"value\": 0.9557522123893806}, {\"epochs\": 43, \"variable\": \"test\", \"value\": 0.9557522123893806}, {\"epochs\": 44, \"variable\": \"test\", \"value\": 0.9469026548672567}, {\"epochs\": 45, \"variable\": \"test\", \"value\": 0.9557522123893806}, {\"epochs\": 46, \"variable\": \"test\", \"value\": 0.9557522123893806}, {\"epochs\": 47, \"variable\": \"test\", \"value\": 0.9557522123893806}, {\"epochs\": 48, \"variable\": \"test\", \"value\": 0.9557522123893806}, {\"epochs\": 49, \"variable\": \"test\", \"value\": 0.9557522123893806}, {\"epochs\": 50, \"variable\": \"test\", \"value\": 0.9557522123893806}, {\"epochs\": 51, \"variable\": \"test\", \"value\": 0.9557522123893806}, {\"epochs\": 52, \"variable\": \"test\", \"value\": 0.9469026548672567}, {\"epochs\": 53, \"variable\": \"test\", \"value\": 0.9557522123893806}, {\"epochs\": 54, \"variable\": \"test\", \"value\": 0.9557522123893806}, {\"epochs\": 55, \"variable\": \"test\", \"value\": 0.9646017699115044}, {\"epochs\": 56, \"variable\": \"test\", \"value\": 0.9646017699115044}, {\"epochs\": 57, \"variable\": \"test\", \"value\": 0.9646017699115044}, {\"epochs\": 58, \"variable\": \"test\", \"value\": 0.9646017699115044}, {\"epochs\": 59, \"variable\": \"test\", \"value\": 0.9646017699115044}, {\"epochs\": 60, \"variable\": \"test\", \"value\": 0.9646017699115044}, {\"epochs\": 61, \"variable\": \"test\", \"value\": 0.9646017699115044}, {\"epochs\": 62, \"variable\": \"test\", \"value\": 0.9646017699115044}, {\"epochs\": 63, \"variable\": \"test\", \"value\": 0.9646017699115044}, {\"epochs\": 64, \"variable\": \"test\", \"value\": 0.9557522123893806}, {\"epochs\": 65, \"variable\": \"test\", \"value\": 0.9557522123893806}, {\"epochs\": 66, \"variable\": \"test\", \"value\": 0.9646017699115044}, {\"epochs\": 67, \"variable\": \"test\", \"value\": 0.9646017699115044}, {\"epochs\": 68, \"variable\": \"test\", \"value\": 0.9469026548672567}, {\"epochs\": 69, \"variable\": \"test\", \"value\": 0.9557522123893806}, {\"epochs\": 70, \"variable\": \"test\", \"value\": 0.9557522123893806}, {\"epochs\": 71, \"variable\": \"test\", \"value\": 0.9557522123893806}, {\"epochs\": 72, \"variable\": \"test\", \"value\": 0.9646017699115044}, {\"epochs\": 73, \"variable\": \"test\", \"value\": 0.9646017699115044}, {\"epochs\": 74, \"variable\": \"test\", \"value\": 0.9734513274336283}, {\"epochs\": 75, \"variable\": \"test\", \"value\": 0.9734513274336283}, {\"epochs\": 76, \"variable\": \"test\", \"value\": 0.9734513274336283}, {\"epochs\": 77, \"variable\": \"test\", \"value\": 0.9734513274336283}, {\"epochs\": 78, \"variable\": \"test\", \"value\": 0.9734513274336283}, {\"epochs\": 79, \"variable\": \"test\", \"value\": 0.9734513274336283}, {\"epochs\": 80, \"variable\": \"test\", \"value\": 0.9646017699115044}, {\"epochs\": 81, \"variable\": \"test\", \"value\": 0.9646017699115044}, {\"epochs\": 82, \"variable\": \"test\", \"value\": 0.9646017699115044}, {\"epochs\": 83, \"variable\": \"test\", \"value\": 0.9646017699115044}, {\"epochs\": 84, \"variable\": \"test\", \"value\": 0.9734513274336283}, {\"epochs\": 85, \"variable\": \"test\", \"value\": 0.9734513274336283}, {\"epochs\": 86, \"variable\": \"test\", \"value\": 0.9734513274336283}, {\"epochs\": 87, \"variable\": \"test\", \"value\": 0.9734513274336283}, {\"epochs\": 88, \"variable\": \"test\", \"value\": 0.9734513274336283}, {\"epochs\": 89, \"variable\": \"test\", \"value\": 0.9734513274336283}, {\"epochs\": 90, \"variable\": \"test\", \"value\": 0.9646017699115044}, {\"epochs\": 91, \"variable\": \"test\", \"value\": 0.9646017699115044}, {\"epochs\": 92, \"variable\": \"test\", \"value\": 0.9646017699115044}, {\"epochs\": 93, \"variable\": \"test\", \"value\": 0.9646017699115044}, {\"epochs\": 94, \"variable\": \"test\", \"value\": 0.9646017699115044}, {\"epochs\": 95, \"variable\": \"test\", \"value\": 0.9646017699115044}, {\"epochs\": 96, \"variable\": \"test\", \"value\": 0.9734513274336283}, {\"epochs\": 97, \"variable\": \"test\", \"value\": 0.9734513274336283}, {\"epochs\": 98, \"variable\": \"test\", \"value\": 0.9734513274336283}, {\"epochs\": 99, \"variable\": \"test\", \"value\": 0.9734513274336283}], \"data-020c8be3783b010cb552a568d8e39a98\": [{\"epochs\": 0, \"variable\": \"train\", \"value\": 0.01916629875300031}, {\"epochs\": 1, \"variable\": \"train\", \"value\": 0.016585043563696618}, {\"epochs\": 2, \"variable\": \"train\", \"value\": 0.013453605531275958}, {\"epochs\": 3, \"variable\": \"train\", \"value\": 0.011613695329176511}, {\"epochs\": 4, \"variable\": \"train\", \"value\": 0.010781077589568507}, {\"epochs\": 5, \"variable\": \"train\", \"value\": 0.00825602090221712}, {\"epochs\": 6, \"variable\": \"train\", \"value\": 0.008374159135124236}, {\"epochs\": 7, \"variable\": \"train\", \"value\": 0.007938884455582192}, {\"epochs\": 8, \"variable\": \"train\", \"value\": 0.006981631919341982}, {\"epochs\": 9, \"variable\": \"train\", \"value\": 0.006237587138610781}, {\"epochs\": 10, \"variable\": \"train\", \"value\": 0.0067218028265854405}, {\"epochs\": 11, \"variable\": \"train\", \"value\": 0.006859737794518014}, {\"epochs\": 12, \"variable\": \"train\", \"value\": 0.005791577114456001}, {\"epochs\": 13, \"variable\": \"train\", \"value\": 0.005750839052529171}, {\"epochs\": 14, \"variable\": \"train\", \"value\": 0.004976751818054024}, {\"epochs\": 15, \"variable\": \"train\", \"value\": 0.0039678982162840975}, {\"epochs\": 16, \"variable\": \"train\", \"value\": 0.00524033474739484}, {\"epochs\": 17, \"variable\": \"train\", \"value\": 0.005262292778811692}, {\"epochs\": 18, \"variable\": \"train\", \"value\": 0.004380953152060965}, {\"epochs\": 19, \"variable\": \"train\", \"value\": 0.00398924729833201}, {\"epochs\": 20, \"variable\": \"train\", \"value\": 0.0038054166397372426}, {\"epochs\": 21, \"variable\": \"train\", \"value\": 0.005646296844628579}, {\"epochs\": 22, \"variable\": \"train\", \"value\": 0.003913849478023719}, {\"epochs\": 23, \"variable\": \"train\", \"value\": 0.0039417587249215074}, {\"epochs\": 24, \"variable\": \"train\", \"value\": 0.006568572416159385}, {\"epochs\": 25, \"variable\": \"train\", \"value\": 0.0032793899491372234}, {\"epochs\": 26, \"variable\": \"train\", \"value\": 0.004671919163159483}, {\"epochs\": 27, \"variable\": \"train\", \"value\": 0.003024222978686921}, {\"epochs\": 28, \"variable\": \"train\", \"value\": 0.0034675159673581177}, {\"epochs\": 29, \"variable\": \"train\", \"value\": 0.003897326659425465}, {\"epochs\": 30, \"variable\": \"train\", \"value\": 0.003555786678160744}, {\"epochs\": 31, \"variable\": \"train\", \"value\": 0.002633278968233715}, {\"epochs\": 32, \"variable\": \"train\", \"value\": 0.0029102175628545183}, {\"epochs\": 33, \"variable\": \"train\", \"value\": 0.0031510124489722126}, {\"epochs\": 34, \"variable\": \"train\", \"value\": 0.0037924311626916646}, {\"epochs\": 35, \"variable\": \"train\", \"value\": 0.00505538216267509}, {\"epochs\": 36, \"variable\": \"train\", \"value\": 0.0034928361803179043}, {\"epochs\": 37, \"variable\": \"train\", \"value\": 0.0030302601755807226}, {\"epochs\": 38, \"variable\": \"train\", \"value\": 0.003624393279981796}, {\"epochs\": 39, \"variable\": \"train\", \"value\": 0.0028276415506085215}, {\"epochs\": 40, \"variable\": \"train\", \"value\": 0.00238591147108553}, {\"epochs\": 41, \"variable\": \"train\", \"value\": 0.0026375560011443508}, {\"epochs\": 42, \"variable\": \"train\", \"value\": 0.002328625698199217}, {\"epochs\": 43, \"variable\": \"train\", \"value\": 0.002628145432563577}, {\"epochs\": 44, \"variable\": \"train\", \"value\": 0.0024751819299098634}, {\"epochs\": 45, \"variable\": \"train\", \"value\": 0.0030782437986797756}, {\"epochs\": 46, \"variable\": \"train\", \"value\": 0.002583004734068538}, {\"epochs\": 47, \"variable\": \"train\", \"value\": 0.0023376240013202945}, {\"epochs\": 48, \"variable\": \"train\", \"value\": 0.0019325817510542742}, {\"epochs\": 49, \"variable\": \"train\", \"value\": 0.002307094205384967}, {\"epochs\": 50, \"variable\": \"train\", \"value\": 0.0021717634009218766}, {\"epochs\": 51, \"variable\": \"train\", \"value\": 0.0019415056340082394}, {\"epochs\": 52, \"variable\": \"train\", \"value\": 0.0018226480346986618}, {\"epochs\": 53, \"variable\": \"train\", \"value\": 0.002018036228030121}, {\"epochs\": 54, \"variable\": \"train\", \"value\": 0.0020666968548434905}, {\"epochs\": 55, \"variable\": \"train\", \"value\": 0.001715156024899976}, {\"epochs\": 56, \"variable\": \"train\", \"value\": 0.0017355456091891761}, {\"epochs\": 57, \"variable\": \"train\", \"value\": 0.002004756781333251}, {\"epochs\": 58, \"variable\": \"train\", \"value\": 0.0019472172890586414}, {\"epochs\": 59, \"variable\": \"train\", \"value\": 0.0015085594321804486}, {\"epochs\": 60, \"variable\": \"train\", \"value\": 0.0015944769441853081}, {\"epochs\": 61, \"variable\": \"train\", \"value\": 0.0016376589392793589}, {\"epochs\": 62, \"variable\": \"train\", \"value\": 0.0017606303152910138}, {\"epochs\": 63, \"variable\": \"train\", \"value\": 0.0016499226234881815}, {\"epochs\": 64, \"variable\": \"train\", \"value\": 0.0018461871877940678}, {\"epochs\": 65, \"variable\": \"train\", \"value\": 0.001526321916059516}, {\"epochs\": 66, \"variable\": \"train\", \"value\": 0.0015327466858757867}, {\"epochs\": 67, \"variable\": \"train\", \"value\": 0.0018744600001879578}, {\"epochs\": 68, \"variable\": \"train\", \"value\": 0.0016204592311519317}, {\"epochs\": 69, \"variable\": \"train\", \"value\": 0.0018366800756746782}, {\"epochs\": 70, \"variable\": \"train\", \"value\": 0.0016703503456152262}, {\"epochs\": 71, \"variable\": \"train\", \"value\": 0.0016631629046809171}, {\"epochs\": 72, \"variable\": \"train\", \"value\": 0.0017709884492830299}, {\"epochs\": 73, \"variable\": \"train\", \"value\": 0.0014510334851184567}, {\"epochs\": 74, \"variable\": \"train\", \"value\": 0.001577732349492581}, {\"epochs\": 75, \"variable\": \"train\", \"value\": 0.0018695287434990836}, {\"epochs\": 76, \"variable\": \"train\", \"value\": 0.0013886863130262528}, {\"epochs\": 77, \"variable\": \"train\", \"value\": 0.0014950700989171462}, {\"epochs\": 78, \"variable\": \"train\", \"value\": 0.0023346853895662386}, {\"epochs\": 79, \"variable\": \"train\", \"value\": 0.0014244024552604706}, {\"epochs\": 80, \"variable\": \"train\", \"value\": 0.0017327042831771675}, {\"epochs\": 81, \"variable\": \"train\", \"value\": 0.001609880148907731}, {\"epochs\": 82, \"variable\": \"train\", \"value\": 0.0013469397108216853}, {\"epochs\": 83, \"variable\": \"train\", \"value\": 0.0013089950456929846}, {\"epochs\": 84, \"variable\": \"train\", \"value\": 0.001097108740573642}, {\"epochs\": 85, \"variable\": \"train\", \"value\": 0.0018616205944868797}, {\"epochs\": 86, \"variable\": \"train\", \"value\": 0.0013391874245300146}, {\"epochs\": 87, \"variable\": \"train\", \"value\": 0.0016698480451700789}, {\"epochs\": 88, \"variable\": \"train\", \"value\": 0.0011115314231978522}, {\"epochs\": 89, \"variable\": \"train\", \"value\": 0.0012651117254491053}, {\"epochs\": 90, \"variable\": \"train\", \"value\": 0.0012720304316487805}, {\"epochs\": 91, \"variable\": \"train\", \"value\": 0.00221133751659101}, {\"epochs\": 92, \"variable\": \"train\", \"value\": 0.001211863139580036}, {\"epochs\": 93, \"variable\": \"train\", \"value\": 0.002024297655998975}, {\"epochs\": 94, \"variable\": \"train\", \"value\": 0.0010817655544171389}, {\"epochs\": 95, \"variable\": \"train\", \"value\": 0.0010032013729500131}, {\"epochs\": 96, \"variable\": \"train\", \"value\": 0.0014175943373720308}, {\"epochs\": 97, \"variable\": \"train\", \"value\": 0.001285466140714185}, {\"epochs\": 98, \"variable\": \"train\", \"value\": 0.0015931152578057915}, {\"epochs\": 99, \"variable\": \"train\", \"value\": 0.0009795974126492423}, {\"epochs\": 0, \"variable\": \"test\", \"value\": 0.051685126481857975}, {\"epochs\": 1, \"variable\": \"test\", \"value\": 0.04452881032386712}, {\"epochs\": 2, \"variable\": \"test\", \"value\": 0.03774853617744108}, {\"epochs\": 3, \"variable\": \"test\", \"value\": 0.033205769758308884}, {\"epochs\": 4, \"variable\": \"test\", \"value\": 0.030614085429537613}, {\"epochs\": 5, \"variable\": \"test\", \"value\": 0.029229082364951614}, {\"epochs\": 6, \"variable\": \"test\", \"value\": 0.02887515051175008}, {\"epochs\": 7, \"variable\": \"test\", \"value\": 0.027945289569618427}, {\"epochs\": 8, \"variable\": \"test\", \"value\": 0.025361223030934292}, {\"epochs\": 9, \"variable\": \"test\", \"value\": 0.022627164041046546}, {\"epochs\": 10, \"variable\": \"test\", \"value\": 0.020520993038616347}, {\"epochs\": 11, \"variable\": \"test\", \"value\": 0.019174698443539376}, {\"epochs\": 12, \"variable\": \"test\", \"value\": 0.018489041423375627}, {\"epochs\": 13, \"variable\": \"test\", \"value\": 0.018165619763652836}, {\"epochs\": 14, \"variable\": \"test\", \"value\": 0.01801204338537908}, {\"epochs\": 15, \"variable\": \"test\", \"value\": 0.017813569676559584}, {\"epochs\": 16, \"variable\": \"test\", \"value\": 0.01675507188898272}, {\"epochs\": 17, \"variable\": \"test\", \"value\": 0.01571385166813842}, {\"epochs\": 18, \"variable\": \"test\", \"value\": 0.015468124135405617}, {\"epochs\": 19, \"variable\": \"test\", \"value\": 0.015395398556658653}, {\"epochs\": 20, \"variable\": \"test\", \"value\": 0.015424120215188086}, {\"epochs\": 21, \"variable\": \"test\", \"value\": 0.01517904490496205}, {\"epochs\": 22, \"variable\": \"test\", \"value\": 0.014009009947818993}, {\"epochs\": 23, \"variable\": \"test\", \"value\": 0.013247185312541186}, {\"epochs\": 24, \"variable\": \"test\", \"value\": 0.012909304647319085}, {\"epochs\": 25, \"variable\": \"test\", \"value\": 0.012591416593146535}, {\"epochs\": 26, \"variable\": \"test\", \"value\": 0.012418605057539138}, {\"epochs\": 27, \"variable\": \"test\", \"value\": 0.012638254766970608}, {\"epochs\": 28, \"variable\": \"test\", \"value\": 0.012799026428070744}, {\"epochs\": 29, \"variable\": \"test\", \"value\": 0.012238727206677463}, {\"epochs\": 30, \"variable\": \"test\", \"value\": 0.011504655918188854}, {\"epochs\": 31, \"variable\": \"test\", \"value\": 0.011209569805491287}, {\"epochs\": 32, \"variable\": \"test\", \"value\": 0.01107109080901188}, {\"epochs\": 33, \"variable\": \"test\", \"value\": 0.01099759551276148}, {\"epochs\": 34, \"variable\": \"test\", \"value\": 0.011246680422166807}, {\"epochs\": 35, \"variable\": \"test\", \"value\": 0.011831978385427357}, {\"epochs\": 36, \"variable\": \"test\", \"value\": 0.01168803527819372}, {\"epochs\": 37, \"variable\": \"test\", \"value\": 0.011321538713126056}, {\"epochs\": 38, \"variable\": \"test\", \"value\": 0.010685871264575857}, {\"epochs\": 39, \"variable\": \"test\", \"value\": 0.010172271623020679}, {\"epochs\": 40, \"variable\": \"test\", \"value\": 0.01013853091054258}, {\"epochs\": 41, \"variable\": \"test\", \"value\": 0.01015085746756697}, {\"epochs\": 42, \"variable\": \"test\", \"value\": 0.009945516169598672}, {\"epochs\": 43, \"variable\": \"test\", \"value\": 0.009615497383396182}, {\"epochs\": 44, \"variable\": \"test\", \"value\": 0.009368044612681972}, {\"epochs\": 45, \"variable\": \"test\", \"value\": 0.009225532280660309}, {\"epochs\": 46, \"variable\": \"test\", \"value\": 0.008995106723983732}, {\"epochs\": 47, \"variable\": \"test\", \"value\": 0.008848962464691263}, {\"epochs\": 48, \"variable\": \"test\", \"value\": 0.008792701548179694}, {\"epochs\": 49, \"variable\": \"test\", \"value\": 0.008774214086279404}, {\"epochs\": 50, \"variable\": \"test\", \"value\": 0.008619179965647976}, {\"epochs\": 51, \"variable\": \"test\", \"value\": 0.00834508246816365}, {\"epochs\": 52, \"variable\": \"test\", \"value\": 0.00813608280325358}, {\"epochs\": 53, \"variable\": \"test\", \"value\": 0.008050106927356889}, {\"epochs\": 54, \"variable\": \"test\", \"value\": 0.008008948008043576}, {\"epochs\": 55, \"variable\": \"test\", \"value\": 0.00800694960408506}, {\"epochs\": 56, \"variable\": \"test\", \"value\": 0.008017818814357825}, {\"epochs\": 57, \"variable\": \"test\", \"value\": 0.007908065630271372}, {\"epochs\": 58, \"variable\": \"test\", \"value\": 0.007800448323245597}, {\"epochs\": 59, \"variable\": \"test\", \"value\": 0.007951045919836095}, {\"epochs\": 60, \"variable\": \"test\", \"value\": 0.00798932489304416}, {\"epochs\": 61, \"variable\": \"test\", \"value\": 0.007915880168433738}, {\"epochs\": 62, \"variable\": \"test\", \"value\": 0.0078077388152611995}, {\"epochs\": 63, \"variable\": \"test\", \"value\": 0.00774851744681333}, {\"epochs\": 64, \"variable\": \"test\", \"value\": 0.007855957456394634}, {\"epochs\": 65, \"variable\": \"test\", \"value\": 0.00789766224612177}, {\"epochs\": 66, \"variable\": \"test\", \"value\": 0.007630936339893172}, {\"epochs\": 67, \"variable\": \"test\", \"value\": 0.0073109106943670624}, {\"epochs\": 68, \"variable\": \"test\", \"value\": 0.007090018122597078}, {\"epochs\": 69, \"variable\": \"test\", \"value\": 0.0070226633575110305}, {\"epochs\": 70, \"variable\": \"test\", \"value\": 0.007009256334431404}, {\"epochs\": 71, \"variable\": \"test\", \"value\": 0.007019904466856897}, {\"epochs\": 72, \"variable\": \"test\", \"value\": 0.007010006733172763}, {\"epochs\": 73, \"variable\": \"test\", \"value\": 0.006991476348016114}, {\"epochs\": 74, \"variable\": \"test\", \"value\": 0.007057338623346481}, {\"epochs\": 75, \"variable\": \"test\", \"value\": 0.007249121051446527}, {\"epochs\": 76, \"variable\": \"test\", \"value\": 0.007479909247001716}, {\"epochs\": 77, \"variable\": \"test\", \"value\": 0.007590546280936857}, {\"epochs\": 78, \"variable\": \"test\", \"value\": 0.007354668217950162}, {\"epochs\": 79, \"variable\": \"test\", \"value\": 0.00675720484119601}, {\"epochs\": 80, \"variable\": \"test\", \"value\": 0.006477872618531759}, {\"epochs\": 81, \"variable\": \"test\", \"value\": 0.006397466612073173}, {\"epochs\": 82, \"variable\": \"test\", \"value\": 0.006354356398888394}, {\"epochs\": 83, \"variable\": \"test\", \"value\": 0.006322320979253381}, {\"epochs\": 84, \"variable\": \"test\", \"value\": 0.00645203749954173}, {\"epochs\": 85, \"variable\": \"test\", \"value\": 0.006692569076487448}, {\"epochs\": 86, \"variable\": \"test\", \"value\": 0.00697600472289904}, {\"epochs\": 87, \"variable\": \"test\", \"value\": 0.006889811197740842}, {\"epochs\": 88, \"variable\": \"test\", \"value\": 0.00643223609808272}, {\"epochs\": 89, \"variable\": \"test\", \"value\": 0.006148293845157708}, {\"epochs\": 90, \"variable\": \"test\", \"value\": 0.006037509052363117}, {\"epochs\": 91, \"variable\": \"test\", \"value\": 0.005931195629908975}, {\"epochs\": 92, \"variable\": \"test\", \"value\": 0.005785819208991211}, {\"epochs\": 93, \"variable\": \"test\", \"value\": 0.0057632635322819765}, {\"epochs\": 94, \"variable\": \"test\", \"value\": 0.005844414135259865}, {\"epochs\": 95, \"variable\": \"test\", \"value\": 0.005879630326433519}, {\"epochs\": 96, \"variable\": \"test\", \"value\": 0.005876507445246772}, {\"epochs\": 97, \"variable\": \"test\", \"value\": 0.005841616574114403}, {\"epochs\": 98, \"variable\": \"test\", \"value\": 0.005866632392976136}, {\"epochs\": 99, \"variable\": \"test\", \"value\": 0.006005815568223463}]}}, {\"mode\": \"vega-lite\"});\n",
              "</script>"
            ],
            "text/plain": [
              "alt.HConcatChart(...)"
            ]
          },
          "metadata": {},
          "execution_count": 16
        }
      ],
      "source": [
        "# I create the dataframes\n",
        "train_val_acc_df = pd.DataFrame.from_dict(accuracy_stats_resnet).reset_index().melt(id_vars=['index']).rename(columns={\"index\":\"epochs\"})\n",
        "train_val_loss_df = pd.DataFrame.from_dict(loss_stats_resnet).reset_index().melt(id_vars=['index']).rename(columns={\"index\":\"epochs\"})\n",
        "\n",
        "#I trace loss and accuracy for train and test\n",
        "\n",
        "\n",
        "char1=alt.Chart(train_val_acc_df).mark_line().encode(\n",
        "            x=alt.X('epochs:O',scale=alt.Scale(zero=False)),\n",
        "            y=alt.Y('value:Q',scale=alt.Scale(zero=False)),\n",
        "            color='variable:N').properties(height=300,width=300,title='Accuracy')\n",
        "\n",
        "\n",
        "char2=alt.Chart(train_val_loss_df).mark_line().encode(\n",
        "            x='epochs:O',\n",
        "            y='value:Q',\n",
        "            color='variable:N').properties(height=300,width=300,title='Loss')\n",
        "\n",
        "alt.hconcat(char1,char2).resolve_scale(y='independent')"
      ]
    },
    {
      "cell_type": "code",
      "execution_count": null,
      "metadata": {
        "id": "0VDALK1ag3RI"
      },
      "outputs": [],
      "source": [
        "def get_prediction(model,data_loader):\n",
        "    \n",
        "    prediction=[]\n",
        "    lab=[]\n",
        "    with torch.no_grad():\n",
        "        model.eval()\n",
        "        for data in data_loader:\n",
        "            inp, labels = data\n",
        "            outputs = model(inp)\n",
        "            _, predicted = torch.max(outputs.data, 1)\n",
        "\n",
        "            prediction.extend(predicted.squeeze().tolist())\n",
        "            lab.extend(labels.squeeze().tolist())\n",
        "    return prediction,lab"
      ]
    },
    {
      "cell_type": "code",
      "execution_count": null,
      "metadata": {
        "id": "HvL8tv_Ug3WZ"
      },
      "outputs": [],
      "source": [
        "prediction,label=get_prediction(best_model,test_loader)"
      ]
    },
    {
      "cell_type": "code",
      "execution_count": null,
      "metadata": {
        "colab": {
          "base_uri": "https://localhost:8080/"
        },
        "id": "p4X1n9D3g3bf",
        "outputId": "03f44bd3-1345-43da-d59e-fcac4285af5d"
      },
      "outputs": [
        {
          "output_type": "stream",
          "name": "stdout",
          "text": [
            "                   precision    recall  f1-score   support\n",
            "\n",
            "           eczema       0.93      1.00      0.96        27\n",
            "keratosis_pilaris       0.96      0.92      0.94        26\n",
            "         melanoma       1.00      1.00      1.00        30\n",
            "          rosacea       1.00      0.97      0.98        30\n",
            "\n",
            "         accuracy                           0.97       113\n",
            "        macro avg       0.97      0.97      0.97       113\n",
            "     weighted avg       0.97      0.97      0.97       113\n",
            "\n"
          ]
        }
      ],
      "source": [
        "from sklearn.metrics import classification_report,confusion_matrix\n",
        "\n",
        "\n",
        "print(classification_report(label,prediction,zero_division=0,target_names=classes))"
      ]
    },
    {
      "cell_type": "code",
      "execution_count": null,
      "metadata": {
        "colab": {
          "base_uri": "https://localhost:8080/",
          "height": 525
        },
        "id": "OPSnJ54ug3gA",
        "outputId": "3eda94f5-7e3b-4d88-9d1a-65dd26545904"
      },
      "outputs": [
        {
          "output_type": "execute_result",
          "data": {
            "text/html": [
              "\n",
              "<div id=\"altair-viz-b3a753cff1a64605bdccb307cd292dac\"></div>\n",
              "<script type=\"text/javascript\">\n",
              "  var VEGA_DEBUG = (typeof VEGA_DEBUG == \"undefined\") ? {} : VEGA_DEBUG;\n",
              "  (function(spec, embedOpt){\n",
              "    let outputDiv = document.currentScript.previousElementSibling;\n",
              "    if (outputDiv.id !== \"altair-viz-b3a753cff1a64605bdccb307cd292dac\") {\n",
              "      outputDiv = document.getElementById(\"altair-viz-b3a753cff1a64605bdccb307cd292dac\");\n",
              "    }\n",
              "    const paths = {\n",
              "      \"vega\": \"https://cdn.jsdelivr.net/npm//vega@5?noext\",\n",
              "      \"vega-lib\": \"https://cdn.jsdelivr.net/npm//vega-lib?noext\",\n",
              "      \"vega-lite\": \"https://cdn.jsdelivr.net/npm//vega-lite@4.17.0?noext\",\n",
              "      \"vega-embed\": \"https://cdn.jsdelivr.net/npm//vega-embed@6?noext\",\n",
              "    };\n",
              "\n",
              "    function maybeLoadScript(lib, version) {\n",
              "      var key = `${lib.replace(\"-\", \"\")}_version`;\n",
              "      return (VEGA_DEBUG[key] == version) ?\n",
              "        Promise.resolve(paths[lib]) :\n",
              "        new Promise(function(resolve, reject) {\n",
              "          var s = document.createElement('script');\n",
              "          document.getElementsByTagName(\"head\")[0].appendChild(s);\n",
              "          s.async = true;\n",
              "          s.onload = () => {\n",
              "            VEGA_DEBUG[key] = version;\n",
              "            return resolve(paths[lib]);\n",
              "          };\n",
              "          s.onerror = () => reject(`Error loading script: ${paths[lib]}`);\n",
              "          s.src = paths[lib];\n",
              "        });\n",
              "    }\n",
              "\n",
              "    function showError(err) {\n",
              "      outputDiv.innerHTML = `<div class=\"error\" style=\"color:red;\">${err}</div>`;\n",
              "      throw err;\n",
              "    }\n",
              "\n",
              "    function displayChart(vegaEmbed) {\n",
              "      vegaEmbed(outputDiv, spec, embedOpt)\n",
              "        .catch(err => showError(`Javascript Error: ${err.message}<br>This usually means there's a typo in your chart specification. See the javascript console for the full traceback.`));\n",
              "    }\n",
              "\n",
              "    if(typeof define === \"function\" && define.amd) {\n",
              "      requirejs.config({paths});\n",
              "      require([\"vega-embed\"], displayChart, err => showError(`Error loading script: ${err.message}`));\n",
              "    } else {\n",
              "      maybeLoadScript(\"vega\", \"5\")\n",
              "        .then(() => maybeLoadScript(\"vega-lite\", \"4.17.0\"))\n",
              "        .then(() => maybeLoadScript(\"vega-embed\", \"6\"))\n",
              "        .catch(showError)\n",
              "        .then(() => displayChart(vegaEmbed));\n",
              "    }\n",
              "  })({\"config\": {\"view\": {\"continuousWidth\": 400, \"continuousHeight\": 300}}, \"layer\": [{\"mark\": \"rect\", \"encoding\": {\"color\": {\"field\": \"number\", \"type\": \"quantitative\"}, \"x\": {\"field\": \"prediction\", \"type\": \"nominal\"}, \"y\": {\"field\": \"True value\", \"type\": \"nominal\"}}, \"height\": 400, \"width\": 400}, {\"mark\": \"text\", \"encoding\": {\"text\": {\"field\": \"number\", \"type\": \"quantitative\"}, \"x\": {\"field\": \"prediction\", \"type\": \"nominal\"}, \"y\": {\"field\": \"True value\", \"type\": \"nominal\"}}, \"height\": 400, \"width\": 400}], \"data\": {\"name\": \"data-2e94815628c614757f2300c4ab605ddd\"}, \"$schema\": \"https://vega.github.io/schema/vega-lite/v4.17.0.json\", \"datasets\": {\"data-2e94815628c614757f2300c4ab605ddd\": [{\"True value\": \"eczema\", \"prediction\": \"eczema\", \"number\": 27}, {\"True value\": \"keratosis_pilaris\", \"prediction\": \"eczema\", \"number\": 2}, {\"True value\": \"melanoma\", \"prediction\": \"eczema\", \"number\": 0}, {\"True value\": \"rosacea\", \"prediction\": \"eczema\", \"number\": 0}, {\"True value\": \"eczema\", \"prediction\": \"keratosis_pilaris\", \"number\": 0}, {\"True value\": \"keratosis_pilaris\", \"prediction\": \"keratosis_pilaris\", \"number\": 24}, {\"True value\": \"melanoma\", \"prediction\": \"keratosis_pilaris\", \"number\": 0}, {\"True value\": \"rosacea\", \"prediction\": \"keratosis_pilaris\", \"number\": 1}, {\"True value\": \"eczema\", \"prediction\": \"melanoma\", \"number\": 0}, {\"True value\": \"keratosis_pilaris\", \"prediction\": \"melanoma\", \"number\": 0}, {\"True value\": \"melanoma\", \"prediction\": \"melanoma\", \"number\": 30}, {\"True value\": \"rosacea\", \"prediction\": \"melanoma\", \"number\": 0}, {\"True value\": \"eczema\", \"prediction\": \"rosacea\", \"number\": 0}, {\"True value\": \"keratosis_pilaris\", \"prediction\": \"rosacea\", \"number\": 0}, {\"True value\": \"melanoma\", \"prediction\": \"rosacea\", \"number\": 0}, {\"True value\": \"rosacea\", \"prediction\": \"rosacea\", \"number\": 29}]}}, {\"mode\": \"vega-lite\"});\n",
              "</script>"
            ],
            "text/plain": [
              "alt.LayerChart(...)"
            ]
          },
          "metadata": {},
          "execution_count": 20
        }
      ],
      "source": [
        "idx2Class={v:classes[v] for v in range(4)}\n",
        "\n",
        "\n",
        "df_confusion=pd.DataFrame(confusion_matrix(label,prediction)).rename(columns=idx2Class,index=idx2Class)\n",
        "\n",
        "\n",
        "conf=df_confusion.reset_index().melt('index')\n",
        "conf.columns=['True value','prediction','number']\n",
        "b=alt.Chart(conf).encode(\n",
        "            x='prediction:N',\n",
        "            y='True value:N'\n",
        "    ).properties(height=400,width=400)\n",
        "\n",
        "rec=b.mark_rect().encode(\n",
        "            color='number'\n",
        "        )\n",
        "text=b.mark_text().encode(\n",
        "        text=alt.Text('number')\n",
        ")\n",
        "\n",
        "rec+text"
      ]
    },
    {
      "cell_type": "code",
      "execution_count": null,
      "metadata": {
        "id": "cJHYEVFYlC3Y"
      },
      "outputs": [],
      "source": []
    },
    {
      "cell_type": "code",
      "execution_count": null,
      "metadata": {
        "id": "ESNFAmE_lC7A"
      },
      "outputs": [],
      "source": []
    }
  ],
  "metadata": {
    "colab": {
      "provenance": [],
      "authorship_tag": "ABX9TyOtCxUk9bfw9bvFq6fa0ffr",
      "include_colab_link": true
    },
    "kernelspec": {
      "display_name": "Python 3",
      "name": "python3"
    },
    "language_info": {
      "name": "python"
    },
    "widgets": {
      "application/vnd.jupyter.widget-state+json": {
        "b89972a675f34cb2b8178c9981ec65bf": {
          "model_module": "@jupyter-widgets/controls",
          "model_name": "HBoxModel",
          "model_module_version": "1.5.0",
          "state": {
            "_dom_classes": [],
            "_model_module": "@jupyter-widgets/controls",
            "_model_module_version": "1.5.0",
            "_model_name": "HBoxModel",
            "_view_count": null,
            "_view_module": "@jupyter-widgets/controls",
            "_view_module_version": "1.5.0",
            "_view_name": "HBoxView",
            "box_style": "",
            "children": [
              "IPY_MODEL_91780844931b498081eb5abbdf6a3c57",
              "IPY_MODEL_d207f14e3b264e538a1da0cdf3876ae0",
              "IPY_MODEL_5bf238e73c684603b13131acd7dd34ff"
            ],
            "layout": "IPY_MODEL_624c29e5bc4c4a668f539cd2f714ac2d"
          }
        },
        "91780844931b498081eb5abbdf6a3c57": {
          "model_module": "@jupyter-widgets/controls",
          "model_name": "HTMLModel",
          "model_module_version": "1.5.0",
          "state": {
            "_dom_classes": [],
            "_model_module": "@jupyter-widgets/controls",
            "_model_module_version": "1.5.0",
            "_model_name": "HTMLModel",
            "_view_count": null,
            "_view_module": "@jupyter-widgets/controls",
            "_view_module_version": "1.5.0",
            "_view_name": "HTMLView",
            "description": "",
            "description_tooltip": null,
            "layout": "IPY_MODEL_de2c6de7af0d485a9b42be7e08c40e1d",
            "placeholder": "​",
            "style": "IPY_MODEL_aec73e8cd3fb4a74a6e09d5bfc423847",
            "value": "100%"
          }
        },
        "d207f14e3b264e538a1da0cdf3876ae0": {
          "model_module": "@jupyter-widgets/controls",
          "model_name": "FloatProgressModel",
          "model_module_version": "1.5.0",
          "state": {
            "_dom_classes": [],
            "_model_module": "@jupyter-widgets/controls",
            "_model_module_version": "1.5.0",
            "_model_name": "FloatProgressModel",
            "_view_count": null,
            "_view_module": "@jupyter-widgets/controls",
            "_view_module_version": "1.5.0",
            "_view_name": "ProgressView",
            "bar_style": "success",
            "description": "",
            "description_tooltip": null,
            "layout": "IPY_MODEL_f00c6fde0e10477c9a7a0adaab4031da",
            "max": 87319819,
            "min": 0,
            "orientation": "horizontal",
            "style": "IPY_MODEL_462ae02adba9460e89f1020eb88b803c",
            "value": 87319819
          }
        },
        "5bf238e73c684603b13131acd7dd34ff": {
          "model_module": "@jupyter-widgets/controls",
          "model_name": "HTMLModel",
          "model_module_version": "1.5.0",
          "state": {
            "_dom_classes": [],
            "_model_module": "@jupyter-widgets/controls",
            "_model_module_version": "1.5.0",
            "_model_name": "HTMLModel",
            "_view_count": null,
            "_view_module": "@jupyter-widgets/controls",
            "_view_module_version": "1.5.0",
            "_view_name": "HTMLView",
            "description": "",
            "description_tooltip": null,
            "layout": "IPY_MODEL_ecf014e002e541d19c8c6d2b9b98ffa6",
            "placeholder": "​",
            "style": "IPY_MODEL_3b2d64c6e8c64e7daa8c4dfca81ea7ac",
            "value": " 83.3M/83.3M [00:01&lt;00:00, 70.8MB/s]"
          }
        },
        "624c29e5bc4c4a668f539cd2f714ac2d": {
          "model_module": "@jupyter-widgets/base",
          "model_name": "LayoutModel",
          "model_module_version": "1.2.0",
          "state": {
            "_model_module": "@jupyter-widgets/base",
            "_model_module_version": "1.2.0",
            "_model_name": "LayoutModel",
            "_view_count": null,
            "_view_module": "@jupyter-widgets/base",
            "_view_module_version": "1.2.0",
            "_view_name": "LayoutView",
            "align_content": null,
            "align_items": null,
            "align_self": null,
            "border": null,
            "bottom": null,
            "display": null,
            "flex": null,
            "flex_flow": null,
            "grid_area": null,
            "grid_auto_columns": null,
            "grid_auto_flow": null,
            "grid_auto_rows": null,
            "grid_column": null,
            "grid_gap": null,
            "grid_row": null,
            "grid_template_areas": null,
            "grid_template_columns": null,
            "grid_template_rows": null,
            "height": null,
            "justify_content": null,
            "justify_items": null,
            "left": null,
            "margin": null,
            "max_height": null,
            "max_width": null,
            "min_height": null,
            "min_width": null,
            "object_fit": null,
            "object_position": null,
            "order": null,
            "overflow": null,
            "overflow_x": null,
            "overflow_y": null,
            "padding": null,
            "right": null,
            "top": null,
            "visibility": null,
            "width": null
          }
        },
        "de2c6de7af0d485a9b42be7e08c40e1d": {
          "model_module": "@jupyter-widgets/base",
          "model_name": "LayoutModel",
          "model_module_version": "1.2.0",
          "state": {
            "_model_module": "@jupyter-widgets/base",
            "_model_module_version": "1.2.0",
            "_model_name": "LayoutModel",
            "_view_count": null,
            "_view_module": "@jupyter-widgets/base",
            "_view_module_version": "1.2.0",
            "_view_name": "LayoutView",
            "align_content": null,
            "align_items": null,
            "align_self": null,
            "border": null,
            "bottom": null,
            "display": null,
            "flex": null,
            "flex_flow": null,
            "grid_area": null,
            "grid_auto_columns": null,
            "grid_auto_flow": null,
            "grid_auto_rows": null,
            "grid_column": null,
            "grid_gap": null,
            "grid_row": null,
            "grid_template_areas": null,
            "grid_template_columns": null,
            "grid_template_rows": null,
            "height": null,
            "justify_content": null,
            "justify_items": null,
            "left": null,
            "margin": null,
            "max_height": null,
            "max_width": null,
            "min_height": null,
            "min_width": null,
            "object_fit": null,
            "object_position": null,
            "order": null,
            "overflow": null,
            "overflow_x": null,
            "overflow_y": null,
            "padding": null,
            "right": null,
            "top": null,
            "visibility": null,
            "width": null
          }
        },
        "aec73e8cd3fb4a74a6e09d5bfc423847": {
          "model_module": "@jupyter-widgets/controls",
          "model_name": "DescriptionStyleModel",
          "model_module_version": "1.5.0",
          "state": {
            "_model_module": "@jupyter-widgets/controls",
            "_model_module_version": "1.5.0",
            "_model_name": "DescriptionStyleModel",
            "_view_count": null,
            "_view_module": "@jupyter-widgets/base",
            "_view_module_version": "1.2.0",
            "_view_name": "StyleView",
            "description_width": ""
          }
        },
        "f00c6fde0e10477c9a7a0adaab4031da": {
          "model_module": "@jupyter-widgets/base",
          "model_name": "LayoutModel",
          "model_module_version": "1.2.0",
          "state": {
            "_model_module": "@jupyter-widgets/base",
            "_model_module_version": "1.2.0",
            "_model_name": "LayoutModel",
            "_view_count": null,
            "_view_module": "@jupyter-widgets/base",
            "_view_module_version": "1.2.0",
            "_view_name": "LayoutView",
            "align_content": null,
            "align_items": null,
            "align_self": null,
            "border": null,
            "bottom": null,
            "display": null,
            "flex": null,
            "flex_flow": null,
            "grid_area": null,
            "grid_auto_columns": null,
            "grid_auto_flow": null,
            "grid_auto_rows": null,
            "grid_column": null,
            "grid_gap": null,
            "grid_row": null,
            "grid_template_areas": null,
            "grid_template_columns": null,
            "grid_template_rows": null,
            "height": null,
            "justify_content": null,
            "justify_items": null,
            "left": null,
            "margin": null,
            "max_height": null,
            "max_width": null,
            "min_height": null,
            "min_width": null,
            "object_fit": null,
            "object_position": null,
            "order": null,
            "overflow": null,
            "overflow_x": null,
            "overflow_y": null,
            "padding": null,
            "right": null,
            "top": null,
            "visibility": null,
            "width": null
          }
        },
        "462ae02adba9460e89f1020eb88b803c": {
          "model_module": "@jupyter-widgets/controls",
          "model_name": "ProgressStyleModel",
          "model_module_version": "1.5.0",
          "state": {
            "_model_module": "@jupyter-widgets/controls",
            "_model_module_version": "1.5.0",
            "_model_name": "ProgressStyleModel",
            "_view_count": null,
            "_view_module": "@jupyter-widgets/base",
            "_view_module_version": "1.2.0",
            "_view_name": "StyleView",
            "bar_color": null,
            "description_width": ""
          }
        },
        "ecf014e002e541d19c8c6d2b9b98ffa6": {
          "model_module": "@jupyter-widgets/base",
          "model_name": "LayoutModel",
          "model_module_version": "1.2.0",
          "state": {
            "_model_module": "@jupyter-widgets/base",
            "_model_module_version": "1.2.0",
            "_model_name": "LayoutModel",
            "_view_count": null,
            "_view_module": "@jupyter-widgets/base",
            "_view_module_version": "1.2.0",
            "_view_name": "LayoutView",
            "align_content": null,
            "align_items": null,
            "align_self": null,
            "border": null,
            "bottom": null,
            "display": null,
            "flex": null,
            "flex_flow": null,
            "grid_area": null,
            "grid_auto_columns": null,
            "grid_auto_flow": null,
            "grid_auto_rows": null,
            "grid_column": null,
            "grid_gap": null,
            "grid_row": null,
            "grid_template_areas": null,
            "grid_template_columns": null,
            "grid_template_rows": null,
            "height": null,
            "justify_content": null,
            "justify_items": null,
            "left": null,
            "margin": null,
            "max_height": null,
            "max_width": null,
            "min_height": null,
            "min_width": null,
            "object_fit": null,
            "object_position": null,
            "order": null,
            "overflow": null,
            "overflow_x": null,
            "overflow_y": null,
            "padding": null,
            "right": null,
            "top": null,
            "visibility": null,
            "width": null
          }
        },
        "3b2d64c6e8c64e7daa8c4dfca81ea7ac": {
          "model_module": "@jupyter-widgets/controls",
          "model_name": "DescriptionStyleModel",
          "model_module_version": "1.5.0",
          "state": {
            "_model_module": "@jupyter-widgets/controls",
            "_model_module_version": "1.5.0",
            "_model_name": "DescriptionStyleModel",
            "_view_count": null,
            "_view_module": "@jupyter-widgets/base",
            "_view_module_version": "1.2.0",
            "_view_name": "StyleView",
            "description_width": ""
          }
        }
      }
    }
  },
  "nbformat": 4,
  "nbformat_minor": 0
}